{
 "cells": [
  {
   "cell_type": "markdown",
   "id": "f57f007f",
   "metadata": {},
   "source": [
    "# Exploratory Data Analysis"
   ]
  },
  {
   "cell_type": "markdown",
   "id": "23e10f07",
   "metadata": {},
   "source": [
    "## Statistics \n",
    "\n",
    "Is a branch of applied mathematics that involves the collection, description, analysis, and inference of conclusions from quantitative data."
   ]
  },
  {
   "cell_type": "markdown",
   "id": "31f417fb",
   "metadata": {},
   "source": [
    "## Key terms for data types\n",
    "\n",
    "- **Numeric**: Data expressed on a numerical scale\n",
    "    - **Continuous**: Tada that can take on any value in an interval (interval, float, numeric). E.g. time duration or wind speed. \n",
    "    - **Discrete**: Can take on only integer values such as counts. (integer, count). E.g. Count of the occurrence of an event. \n",
    "- **Categorical**: Can take on only a specific set of values representing a set of possible categories (enums, enumerated, factors, nominal, polychotomous). E.g. A fixed set of values such as the type of something or a state name. \n",
    "    - **Binary**: Just two categories of values (dichotomous, logical, indicator, boolean). E.g. 0 or 1, true or false\n",
    "    - **Ordinal**: Categorical data that has an explicit ordering (ordered factor). E.g. A numerical rating (1, 2 or 3).\n"
   ]
  },
  {
   "cell_type": "markdown",
   "id": "af3c6f57",
   "metadata": {},
   "source": [
    "The data type is important to help determine the type of visual display, data analysis or statistical model. "
   ]
  },
  {
   "cell_type": "markdown",
   "id": "3aadd673",
   "metadata": {},
   "source": [
    "## Rectangular data\n",
    "\n",
    "A two-dimensional matrix with rows indicating records (cases) and columns indicating features (variables).\n",
    "Unstructured data must be processed and manipulated so that it can be represented as a set of features in a rectangular data. \n",
    "\n",
    "- **Data Frame**: rectangular data (like a spreadsheet)\n",
    "- **Feature**: A column within a table (attribute, input, predictor, variable)\n",
    "- **Outcome**: (dependent variable, response, target, output). \n",
    "- **Records**: A row  within a table (case, example, instance, observation, pattern, sample). "
   ]
  },
  {
   "cell_type": "markdown",
   "id": "8abdab5a",
   "metadata": {},
   "source": [
    "## Nonrectangular Data Structures\n",
    "\n",
    "Graph data structures are used to represent physical, social and abstract relationships. They are useful to for certain types of problems such as network optimization. \n"
   ]
  },
  {
   "cell_type": "markdown",
   "id": "9c88cb05",
   "metadata": {},
   "source": [
    "## Estimates of Location\n",
    "\n",
    "- **Mean**\n",
    "- **Weighted mean**\n",
    "- **Median**\n",
    "- **Percentile**\n",
    "- **Weighted median**\n",
    "- **Trimmed mean**\n",
    "- **Robust** \n",
    "- **Outlier** "
   ]
  },
  {
   "cell_type": "markdown",
   "id": "7dafc75f",
   "metadata": {},
   "source": [
    "### Mean or Average value: \n",
    "\n",
    "Is the sum of all values divided by the number of values. \n"
   ]
  },
  {
   "cell_type": "markdown",
   "id": "27afc66f",
   "metadata": {},
   "source": [
    "$$\\bar x =  \\frac{\\sum _{i=1}^{n} x_i}{n} $$"
   ]
  },
  {
   "cell_type": "code",
   "execution_count": null,
   "id": "334e3e5b",
   "metadata": {},
   "outputs": [],
   "source": []
  }
 ],
 "metadata": {
  "kernelspec": {
   "display_name": "Python 3 (ipykernel)",
   "language": "python",
   "name": "python3"
  },
  "language_info": {
   "codemirror_mode": {
    "name": "ipython",
    "version": 3
   },
   "file_extension": ".py",
   "mimetype": "text/x-python",
   "name": "python",
   "nbconvert_exporter": "python",
   "pygments_lexer": "ipython3",
   "version": "3.10.7"
  }
 },
 "nbformat": 4,
 "nbformat_minor": 5
}
