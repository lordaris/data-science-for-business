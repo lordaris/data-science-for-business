{
 "cells": [
  {
   "cell_type": "markdown",
   "id": "7ceda188",
   "metadata": {},
   "source": [
    "# Exploratory Data Analysis"
   ]
  },
  {
   "cell_type": "markdown",
   "id": "1d392a93",
   "metadata": {},
   "source": [
    "## Statistics \n",
    "\n",
    "Is a branch of applied mathematics that involves the collection, description, analysis, and inference of conclusions from quantitative data."
   ]
  },
  {
   "cell_type": "markdown",
   "id": "8e8e2f20",
   "metadata": {},
   "source": [
    "## Key terms for data types\n",
    "\n",
    "- **Numeric**: Data expressed on a numerical scale\n",
    "    - **Continuous**: Tada that can take on any value in an interval (interval, float, numeric). E.g. time duration or wind speed. \n",
    "    - **Discrete**: Can take on only integer values such as counts. (integer, count). E.g. Count of the occurrence of an event. \n",
    "- **Categorical**: Can take on only a specific set of values representing a set of possible categories (enums, enumerated, factors, nominal, polychotomous). E.g. A fixed set of values such as the type of something or a state name. \n",
    "    - **Binary**: Just two categories of values (dichotomous, logical, indicator, boolean). E.g. 0 or 1, true or false\n",
    "    - **Ordinal**: Categorical data that has an explicit ordering (ordered factor). E.g. A numerical rating (1, 2 or 3).\n"
   ]
  },
  {
   "cell_type": "markdown",
   "id": "7eed2f5d",
   "metadata": {},
   "source": [
    "The data type is important to help determine the type of visual display, data analysis or statistical model. "
   ]
  },
  {
   "cell_type": "markdown",
   "id": "836a4326",
   "metadata": {},
   "source": [
    "## Rectangular data\n",
    "\n",
    "A two-dimensional matrix with rows indicating records (cases) and columns indicating features (variables).\n",
    "Unstructured data must be processed and manipulated so that it can be represented as a set of features in a rectangular data. \n",
    "\n",
    "- **Data Frame**: rectangular data (like a spreadsheet)\n",
    "- **Feature**: A column within a table (attribute, input, predictor, variable)\n",
    "- **Outcome**: (dependent variable, response, target, output). \n",
    "- **Records**: A row  within a table (case, example, instance, observation, pattern, sample). "
   ]
  },
  {
   "cell_type": "markdown",
   "id": "f476d73d",
   "metadata": {},
   "source": [
    "## Nonrectangular Data Structures\n",
    "\n",
    "Graph data structures are used to represent physical, social and abstract relationships. They are useful to for certain types of problems such as network optimization. \n"
   ]
  },
  {
   "cell_type": "markdown",
   "id": "345fcb15",
   "metadata": {},
   "source": [
    "## Estimates of Location\n",
    "\n",
    "- **Mean**\n",
    "- **Weighted mean**\n",
    "- **Median**\n",
    "- **Percentile**\n",
    "- **Weighted median**\n",
    "- **Trimmed mean**\n",
    "- **Robust** \n",
    "- **Outlier** "
   ]
  },
  {
   "cell_type": "markdown",
   "id": "f0b4a9c1",
   "metadata": {},
   "source": [
    "### Mean or Average value: \n",
    "\n",
    "Is the sum of all values divided by the number of values.\n",
    "$$\\bar x =  \\frac{\\sum _{i=1}^{n} x_i}{n} $$\n"
   ]
  },
  {
   "cell_type": "markdown",
   "id": "f93a0f9f",
   "metadata": {},
   "source": [
    "### Trimmed mean: \n",
    "\n",
    "Drop a fixed number of sorted values at each end and taking an average of the remaining values. It eliminates the influence of extreme values.\n",
    "$$\\bar x =  \\frac{\\sum _{i=p+1}^{n-p} x_{(i)}}{n-2p} $$"
   ]
  },
  {
   "cell_type": "markdown",
   "id": "310f2921",
   "metadata": {},
   "source": [
    "### Weighted mean\n",
    "\n",
    "Multiply each data value $x_i$ by a user-specified weight $w_i$ and divide their sum by the sum of the weights. \n",
    "\n",
    "It can be used when a value is more variable than other. A highly variable (therefore less accurate) observation are given a lower weight. \n",
    "It can also be used when the collected data does not equally represent the different groups that we are interested in measuring. Values from the groups that were underrepresented can get a higher weight. \n",
    "\n",
    "$$\\bar x_{w} =  \\frac{\\sum _{i=1}^{n} w_{i}x_{i}}{\\sum _{i=1}^{n} w_{i}} $$"
   ]
  },
  {
   "cell_type": "markdown",
   "id": "c5d691be",
   "metadata": {},
   "source": [
    "### Median\n",
    "\n",
    "The middle number on a sorted list, or the average of the two values in the middle in case of an even data list. \n",
    "\n",
    "It's referred to as a robust estimate since it is not influenced by outliers (extreme cases) "
   ]
  },
  {
   "cell_type": "code",
   "execution_count": 27,
   "id": "be179c09",
   "metadata": {},
   "outputs": [
    {
     "name": "stdout",
     "output_type": "stream",
     "text": [
      "Defaulting to user installation because normal site-packages is not writeable\n",
      "Collecting wquantiles\n",
      "  Downloading wquantiles-0.6-py3-none-any.whl (3.3 kB)\n",
      "Requirement already satisfied: numpy>=1.18 in /usr/lib/python3.10/site-packages (from wquantiles) (1.23.3)\n",
      "Installing collected packages: wquantiles\n",
      "Successfully installed wquantiles-0.6\n"
     ]
    }
   ],
   "source": [
    "import pandas as pd \n",
    "from scipy import stats\n",
    "import numpy as np\n",
    "!pip install wquantiles\n",
    "import wquantiles"
   ]
  },
  {
   "cell_type": "code",
   "execution_count": 28,
   "id": "9c6bd375",
   "metadata": {
    "tags": [
     "hide-input"
    ]
   },
   "outputs": [
    {
     "data": {
      "text/html": [
       "<div>\n",
       "<style scoped>\n",
       "    .dataframe tbody tr th:only-of-type {\n",
       "        vertical-align: middle;\n",
       "    }\n",
       "\n",
       "    .dataframe tbody tr th {\n",
       "        vertical-align: top;\n",
       "    }\n",
       "\n",
       "    .dataframe thead th {\n",
       "        text-align: right;\n",
       "    }\n",
       "</style>\n",
       "<table border=\"1\" class=\"dataframe\">\n",
       "  <thead>\n",
       "    <tr style=\"text-align: right;\">\n",
       "      <th></th>\n",
       "      <th>points</th>\n",
       "      <th>assists</th>\n",
       "      <th>rebounds</th>\n",
       "    </tr>\n",
       "  </thead>\n",
       "  <tbody>\n",
       "    <tr>\n",
       "      <th>0</th>\n",
       "      <td>25</td>\n",
       "      <td>5</td>\n",
       "      <td>11</td>\n",
       "    </tr>\n",
       "    <tr>\n",
       "      <th>1</th>\n",
       "      <td>12</td>\n",
       "      <td>7</td>\n",
       "      <td>8</td>\n",
       "    </tr>\n",
       "    <tr>\n",
       "      <th>2</th>\n",
       "      <td>15</td>\n",
       "      <td>7</td>\n",
       "      <td>10</td>\n",
       "    </tr>\n",
       "    <tr>\n",
       "      <th>3</th>\n",
       "      <td>14</td>\n",
       "      <td>9</td>\n",
       "      <td>6</td>\n",
       "    </tr>\n",
       "    <tr>\n",
       "      <th>4</th>\n",
       "      <td>19</td>\n",
       "      <td>12</td>\n",
       "      <td>6</td>\n",
       "    </tr>\n",
       "    <tr>\n",
       "      <th>5</th>\n",
       "      <td>23</td>\n",
       "      <td>9</td>\n",
       "      <td>5</td>\n",
       "    </tr>\n",
       "    <tr>\n",
       "      <th>6</th>\n",
       "      <td>25</td>\n",
       "      <td>9</td>\n",
       "      <td>9</td>\n",
       "    </tr>\n",
       "    <tr>\n",
       "      <th>7</th>\n",
       "      <td>30</td>\n",
       "      <td>4</td>\n",
       "      <td>12</td>\n",
       "    </tr>\n",
       "    <tr>\n",
       "      <th>8</th>\n",
       "      <td>1</td>\n",
       "      <td>5</td>\n",
       "      <td>7</td>\n",
       "    </tr>\n",
       "    <tr>\n",
       "      <th>9</th>\n",
       "      <td>20</td>\n",
       "      <td>4</td>\n",
       "      <td>10</td>\n",
       "    </tr>\n",
       "  </tbody>\n",
       "</table>\n",
       "</div>"
      ],
      "text/plain": [
       "   points  assists  rebounds\n",
       "0      25        5        11\n",
       "1      12        7         8\n",
       "2      15        7        10\n",
       "3      14        9         6\n",
       "4      19       12         6\n",
       "5      23        9         5\n",
       "6      25        9         9\n",
       "7      30        4        12\n",
       "8       1        5         7\n",
       "9      20        4        10"
      ]
     },
     "execution_count": 28,
     "metadata": {},
     "output_type": "execute_result"
    }
   ],
   "source": [
    "#define DataFrame\n",
    "df = pd.DataFrame({'points': [25, 12, 15, 14, 19, 23, 25, 30, 1, 20],\n",
    "                   'assists': [5, 7, 7, 9, 12, 9, 9, 4, 5, 4],\n",
    "                   'rebounds': [11, 8, 10, 6, 6, 5, 9, 12, 7, 10]})\n",
    "df\n"
   ]
  },
  {
   "cell_type": "code",
   "execution_count": 34,
   "id": "d326357c",
   "metadata": {},
   "outputs": [
    {
     "name": "stdout",
     "output_type": "stream",
     "text": [
      "mean is 18.4,\n",
      "trim_mean is 19.125,      \n",
      "median is 19.5,\n",
      "weighted mean is 18.380281690140844,      \n",
      "weighted median is 19.1875\n"
     ]
    }
   ],
   "source": [
    "mean_ = df[\"points\"].mean()\n",
    "trim = stats.trim_mean(df[\"points\"], 0.1)\n",
    "median_ = df[\"points\"].median()\n",
    "weighted_mean = np.average(df[\"points\"], weights=df[\"assists\"])\n",
    "weighted_median = wquantiles.median(df[\"points\"], weights=df[\"assists\"])\n",
    "print(f\"mean is {mean_},\\ntrim_mean is {trim},\\\n",
    "      \\nmedian is {median_},\\nweighted mean is {weighted_mean},\\\n",
    "      \\nweighted median is {weighted_median}\")"
   ]
  },
  {
   "cell_type": "code",
   "execution_count": null,
   "id": "9d65bba8",
   "metadata": {},
   "outputs": [],
   "source": []
  }
 ],
 "metadata": {
  "celltoolbar": "Edit Metadata",
  "kernelspec": {
   "display_name": "Python 3 (ipykernel)",
   "language": "python",
   "name": "python3"
  },
  "language_info": {
   "codemirror_mode": {
    "name": "ipython",
    "version": 3
   },
   "file_extension": ".py",
   "mimetype": "text/x-python",
   "name": "python",
   "nbconvert_exporter": "python",
   "pygments_lexer": "ipython3",
   "version": "3.10.7"
  }
 },
 "nbformat": 4,
 "nbformat_minor": 5
}
