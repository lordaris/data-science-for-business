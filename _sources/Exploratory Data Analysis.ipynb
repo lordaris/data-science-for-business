{
 "cells": [
  {
   "cell_type": "markdown",
   "id": "cd59ca5c",
   "metadata": {
    "pycharm": {
     "name": "#%% md\n"
    }
   },
   "source": [
    "# Exploratory Data Analysis\n",
    "\n"
   ]
  },
  {
   "cell_type": "markdown",
   "id": "d41b9237",
   "metadata": {
    "pycharm": {
     "name": "#%% md\n"
    }
   },
   "source": [
    "Important note: Most of the structure and some parts of the text are based on the book **[\"Practical Statistics for Data Scientists: 50+ Essential Concepts Using R and Python\"](https://amzn.to/3LvOdG6)**. Most of the code and all the datasets are different from the book for better exemplification.\n",
    "You can buy the book to get the original examples and full information **[here](https://amzn.to/3LvOdG6)** or clicking the name of the book above.\n"
   ]
  },
  {
   "cell_type": "raw",
   "id": "6b25b49e",
   "metadata": {
    "pycharm": {
     "name": "#%% raw\n"
    },
    "raw_mimetype": "text/html"
   },
   "source": [
    "<a href=\"https://www.amazon.com/Practical-Statistics-Data-Scientists-Essential/dp/149207294X?keywords=practical+statistics+for+data+scientists&qid=1663702089&sprefix=practical+statisti%2Caps%2C122&sr=8-1&linkCode=li2&tag=lordaris-20&linkId=6f4af058aee3ae1a7d53b09882b75af3&language=en_US&ref_=as_li_ss_il\" target=\"_blank\"><img border=\"0\" src=\"//ws-na.amazon-adsystem.com/widgets/q?_encoding=UTF8&ASIN=149207294X&Format=_SL160_&ID=AsinImage&MarketPlace=US&ServiceVersion=20070822&WS=1&tag=lordaris-20&language=en_US\" ></a><img src=\"https://ir-na.amazon-adsystem.com/e/ir?t=lordaris-20&language=en_US&l=li2&o=1&a=149207294X\" width=\"1\" height=\"1\" border=\"0\" alt=\"\" style=\"border:none !important; margin:0px !important;\" />"
   ]
  },
  {
   "cell_type": "markdown",
   "id": "20e101b3",
   "metadata": {
    "pycharm": {
     "name": "#%% md\n"
    }
   },
   "source": [
    "## Statistics \n",
    "\n",
    "Is a branch of applied mathematics that involves the collection, description, analysis, and inference of conclusions from quantitative data."
   ]
  },
  {
   "cell_type": "markdown",
   "id": "eac5dd30",
   "metadata": {
    "pycharm": {
     "name": "#%% md\n"
    }
   },
   "source": [
    "## Key terms for data types\n",
    "\n",
    "- **Numeric**: Data expressed on a numerical scale\n",
    "    - **Continuous**: Tada that can take on any value in an interval (interval, float, numeric). E.g. time duration or wind speed. \n",
    "    - **Discrete**: Can take on only integer values such as counts. (integer, count). E.g. Count of the occurrence of an event. \n",
    "- **Categorical**: Can take on only a specific set of values representing a set of possible categories (enums, enumerated, factors, nominal, polychotomous). E.g. A fixed set of values such as the type of something or a state name. \n",
    "    - **Binary**: Just two categories of values (dichotomous, logical, indicator, boolean). E.g. 0 or 1, true or false\n",
    "    - **Ordinal**: Categorical data that has an explicit ordering (ordered factor). E.g. A numerical rating (1, 2 or 3).\n"
   ]
  },
  {
   "cell_type": "markdown",
   "id": "6307c0b4",
   "metadata": {
    "pycharm": {
     "name": "#%% md\n"
    }
   },
   "source": [
    "The data type is important to help determine the type of visual display, data analysis or statistical model. "
   ]
  },
  {
   "cell_type": "markdown",
   "id": "34a3189d",
   "metadata": {
    "pycharm": {
     "name": "#%% md\n"
    }
   },
   "source": [
    "## Rectangular data\n",
    "\n",
    "A two-dimensional matrix with rows indicating records (cases) and columns indicating features (variables).\n",
    "Unstructured data must be processed and manipulated so that it can be represented as a set of features in a rectangular data. \n",
    "\n",
    "- **Data Frame**: rectangular data (like a spreadsheet)\n",
    "- **Feature**: A column within a table (attribute, input, predictor, variable)\n",
    "- **Outcome**: (dependent variable, response, target, output). \n",
    "- **Records**: A row  within a table (case, example, instance, observation, pattern, sample). "
   ]
  },
  {
   "cell_type": "markdown",
   "id": "3a5046b7",
   "metadata": {
    "pycharm": {
     "name": "#%% md\n"
    }
   },
   "source": [
    "## Nonrectangular Data Structures\n",
    "\n",
    "Graph data structures are used to represent physical, social and abstract relationships. They are useful to for certain types of problems such as network optimization. \n"
   ]
  },
  {
   "cell_type": "markdown",
   "id": "9634e729",
   "metadata": {
    "pycharm": {
     "name": "#%% md\n"
    }
   },
   "source": [
    "## Estimates of Location\n",
    "\n",
    "- **Mean**\n",
    "- **Weighted mean**\n",
    "- **Median**\n",
    "- **Percentile**\n",
    "- **Weighted median**\n",
    "- **Trimmed mean**\n",
    "- **Robust** \n",
    "- **Outlier** "
   ]
  },
  {
   "cell_type": "markdown",
   "id": "6679bca2",
   "metadata": {
    "pycharm": {
     "name": "#%% md\n"
    }
   },
   "source": [
    "### Mean or Average value: \n",
    "\n",
    "Is the sum of all values divided by the number of values.\n",
    "\n",
    "$$\\bar x =  \\frac{\\sum _{i=1}^{n} x_i}{n} $$\n"
   ]
  },
  {
   "cell_type": "markdown",
   "id": "4f9ca669",
   "metadata": {
    "pycharm": {
     "name": "#%% md\n"
    }
   },
   "source": [
    "### Trimmed mean: \n",
    "\n",
    "Drop a fixed number of sorted values at each end and taking an average of the remaining values. It eliminates the influence of extreme values.\n",
    "\n",
    "$$ \\bar x =  \\frac{\\sum _{i=p+1}^{n-p} x_{(i)}}{n-2p} $$"
   ]
  },
  {
   "cell_type": "markdown",
   "id": "808c7991",
   "metadata": {
    "pycharm": {
     "name": "#%% md\n"
    }
   },
   "source": [
    "### Weighted mean\n",
    "\n",
    "Multiply each data value $x_i$ by a user-specified weight $w_i$ and divide their sum by the sum of the weights. \n",
    "\n",
    "It can be used when a value is more variable than other. A highly variable (therefore less accurate) observation are given a lower weight. \n",
    "It can also be used when the collected data does not equally represent the different groups that we are interested in measuring. Values from the groups that were underrepresented can get a higher weight. \n",
    "\n",
    "$$\\bar x_{w} =  \\frac{\\sum _{i=1}^{n} w_{i}x_{i}}{\\sum _{i=1}^{n} w_{i}} $$"
   ]
  },
  {
   "cell_type": "markdown",
   "id": "321d1b55",
   "metadata": {
    "pycharm": {
     "name": "#%% md\n"
    }
   },
   "source": [
    "### Median\n",
    "\n",
    "The middle number on a sorted list, or the average of the two values in the middle in case of an even data list. \n",
    "\n",
    "It's referred to as a robust estimate since it is not influenced by outliers (extreme cases) "
   ]
  },
  {
   "cell_type": "code",
   "execution_count": 1,
   "id": "6b383872",
   "metadata": {
    "pycharm": {
     "name": "#%%\n"
    },
    "tags": [
     "hide-input",
     "hide-output"
    ]
   },
   "outputs": [
    {
     "name": "stdout",
     "output_type": "stream",
     "text": [
      "Defaulting to user installation because normal site-packages is not writeable\n",
      "Requirement already satisfied: wquantiles in /home/lordaris/.local/lib/python3.10/site-packages (0.6)\n",
      "Requirement already satisfied: numpy>=1.18 in /usr/lib/python3.10/site-packages (from wquantiles) (1.23.3)\n",
      "Defaulting to user installation because normal site-packages is not writeable\n",
      "Requirement already satisfied: statsmodels in /home/lordaris/.local/lib/python3.10/site-packages (0.13.2)\n",
      "Requirement already satisfied: numpy>=1.17 in /usr/lib/python3.10/site-packages (from statsmodels) (1.23.3)\n",
      "Requirement already satisfied: pandas>=0.25 in /home/lordaris/.local/lib/python3.10/site-packages (from statsmodels) (1.4.2)\n",
      "Requirement already satisfied: scipy>=1.3 in /usr/lib/python3.10/site-packages (from statsmodels) (1.9.1)\n",
      "Requirement already satisfied: packaging>=21.3 in /usr/lib/python3.10/site-packages (from statsmodels) (21.3)\n",
      "Requirement already satisfied: patsy>=0.5.2 in /home/lordaris/.local/lib/python3.10/site-packages (from statsmodels) (0.5.2)\n",
      "Requirement already satisfied: pyparsing!=3.0.5,>=2.0.2 in /usr/lib/python3.10/site-packages (from packaging>=21.3->statsmodels) (3.0.9)\n",
      "Requirement already satisfied: python-dateutil>=2.8.1 in /usr/lib/python3.10/site-packages (from pandas>=0.25->statsmodels) (2.8.2)\n",
      "Requirement already satisfied: pytz>=2020.1 in /usr/lib/python3.10/site-packages (from pandas>=0.25->statsmodels) (2022.1)\n",
      "Requirement already satisfied: six in /usr/lib/python3.10/site-packages (from patsy>=0.5.2->statsmodels) (1.16.0)\n"
     ]
    }
   ],
   "source": [
    "import pandas as pd \n",
    "from scipy import stats\n",
    "import seaborn as sns\n",
    "import numpy as np\n",
    "!pip install wquantiles\n",
    "!pip install statsmodels\n",
    "import wquantiles\n",
    "from statsmodels import robust"
   ]
  },
  {
   "cell_type": "code",
   "execution_count": 2,
   "id": "763d9d8a",
   "metadata": {
    "pycharm": {
     "name": "#%%\n"
    },
    "tags": [
     "hide-input"
    ]
   },
   "outputs": [
    {
     "data": {
      "text/html": [
       "<div>\n",
       "<style scoped>\n",
       "    .dataframe tbody tr th:only-of-type {\n",
       "        vertical-align: middle;\n",
       "    }\n",
       "\n",
       "    .dataframe tbody tr th {\n",
       "        vertical-align: top;\n",
       "    }\n",
       "\n",
       "    .dataframe thead th {\n",
       "        text-align: right;\n",
       "    }\n",
       "</style>\n",
       "<table border=\"1\" class=\"dataframe\">\n",
       "  <thead>\n",
       "    <tr style=\"text-align: right;\">\n",
       "      <th></th>\n",
       "      <th>points</th>\n",
       "      <th>assists</th>\n",
       "      <th>rebounds</th>\n",
       "    </tr>\n",
       "  </thead>\n",
       "  <tbody>\n",
       "    <tr>\n",
       "      <th>0</th>\n",
       "      <td>25</td>\n",
       "      <td>5</td>\n",
       "      <td>11</td>\n",
       "    </tr>\n",
       "    <tr>\n",
       "      <th>1</th>\n",
       "      <td>12</td>\n",
       "      <td>7</td>\n",
       "      <td>8</td>\n",
       "    </tr>\n",
       "    <tr>\n",
       "      <th>2</th>\n",
       "      <td>15</td>\n",
       "      <td>7</td>\n",
       "      <td>10</td>\n",
       "    </tr>\n",
       "    <tr>\n",
       "      <th>3</th>\n",
       "      <td>14</td>\n",
       "      <td>9</td>\n",
       "      <td>6</td>\n",
       "    </tr>\n",
       "    <tr>\n",
       "      <th>4</th>\n",
       "      <td>19</td>\n",
       "      <td>12</td>\n",
       "      <td>6</td>\n",
       "    </tr>\n",
       "    <tr>\n",
       "      <th>5</th>\n",
       "      <td>23</td>\n",
       "      <td>9</td>\n",
       "      <td>5</td>\n",
       "    </tr>\n",
       "    <tr>\n",
       "      <th>6</th>\n",
       "      <td>25</td>\n",
       "      <td>9</td>\n",
       "      <td>9</td>\n",
       "    </tr>\n",
       "    <tr>\n",
       "      <th>7</th>\n",
       "      <td>30</td>\n",
       "      <td>4</td>\n",
       "      <td>12</td>\n",
       "    </tr>\n",
       "    <tr>\n",
       "      <th>8</th>\n",
       "      <td>1</td>\n",
       "      <td>5</td>\n",
       "      <td>7</td>\n",
       "    </tr>\n",
       "    <tr>\n",
       "      <th>9</th>\n",
       "      <td>20</td>\n",
       "      <td>4</td>\n",
       "      <td>10</td>\n",
       "    </tr>\n",
       "  </tbody>\n",
       "</table>\n",
       "</div>"
      ],
      "text/plain": [
       "   points  assists  rebounds\n",
       "0      25        5        11\n",
       "1      12        7         8\n",
       "2      15        7        10\n",
       "3      14        9         6\n",
       "4      19       12         6\n",
       "5      23        9         5\n",
       "6      25        9         9\n",
       "7      30        4        12\n",
       "8       1        5         7\n",
       "9      20        4        10"
      ]
     },
     "execution_count": 2,
     "metadata": {},
     "output_type": "execute_result"
    }
   ],
   "source": [
    "#define DataFrame\n",
    "df = pd.DataFrame({'points': [25, 12, 15, 14, 19, 23, 25, 30, 1, 20],\n",
    "                   'assists': [5, 7, 7, 9, 12, 9, 9, 4, 5, 4],\n",
    "                   'rebounds': [11, 8, 10, 6, 6, 5, 9, 12, 7, 10]})\n",
    "df\n"
   ]
  },
  {
   "cell_type": "code",
   "execution_count": 3,
   "id": "3feb99ef",
   "metadata": {
    "pycharm": {
     "name": "#%%\n"
    },
    "tags": [
     "hide-input"
    ]
   },
   "outputs": [
    {
     "name": "stdout",
     "output_type": "stream",
     "text": [
      "mean is 18.4,\n",
      "trim_mean is 19.125,      \n",
      "median is 19.5,\n",
      "weighted mean is 18.380281690140844,      \n",
      "weighted median is 19.1875\n"
     ]
    }
   ],
   "source": [
    "mean_ = df[\"points\"].mean()\n",
    "trim = stats.trim_mean(df[\"points\"], 0.1)\n",
    "median_ = df[\"points\"].median()\n",
    "weighted_mean = np.average(df[\"points\"], weights=df[\"assists\"])\n",
    "weighted_median = wquantiles.median(df[\"points\"], weights=df[\"assists\"])\n",
    "print(f\"mean is {mean_},\\ntrim_mean is {trim},\\\n",
    "      \\nmedian is {median_},\\nweighted mean is {weighted_mean},\\\n",
    "      \\nweighted median is {weighted_median}\")"
   ]
  },
  {
   "cell_type": "markdown",
   "id": "81f9e1f1",
   "metadata": {
    "pycharm": {
     "name": "#%% md\n"
    }
   },
   "source": [
    "## Estimates of variability \n",
    "- **Deviations** (errors, residuals)\n",
    "- **Variance** (mean-squared-error)\n",
    "- **Standard Deviation** (square root of the variance)\n",
    "- **Mean absolute deviation** (l1-norm, Manhattan norm)\n",
    "- **Median absolute deviation from the median** \n",
    "- **Range**\n",
    "- **Order statistics** (ranks)\n",
    "- **Percentile** (quantile)\n",
    "- **Interquartile range** (IQR)"
   ]
  },
  {
   "cell_type": "markdown",
   "id": "a0c78cab",
   "metadata": {
    "pycharm": {
     "name": "#%% md\n"
    }
   },
   "source": [
    "### Standard deviation. \n",
    "\n",
    "It is based on deviations between the estimate of location and the observed data. They tell us how dispersed is the data around the central value. "
   ]
  },
  {
   "cell_type": "code",
   "execution_count": 4,
   "id": "a5d7a04a",
   "metadata": {
    "pycharm": {
     "name": "#%%\n"
    },
    "tags": [
     "hide-input"
    ]
   },
   "outputs": [
    {
     "name": "stdout",
     "output_type": "stream",
     "text": [
      "The mean is 8.2 and the median is 5.0\n"
     ]
    }
   ],
   "source": [
    "list_ = pd.DataFrame({\"col1\": [1, 25, 3, 5, 7]})\n",
    "mean_ = list_[\"col1\"].mean()\n",
    "median_ = list_[\"col1\"].median()\n",
    "print(f\"The mean is {mean_} and the median is {median_}\")"
   ]
  },
  {
   "cell_type": "markdown",
   "id": "1317e6e2",
   "metadata": {
    "pycharm": {
     "name": "#%% md\n"
    }
   },
   "source": [
    "The deviations from the mean are the differences:\n"
   ]
  },
  {
   "cell_type": "code",
   "execution_count": 5,
   "id": "41f27387",
   "metadata": {
    "pycharm": {
     "name": "#%%\n"
    },
    "tags": [
     "hide-input"
    ]
   },
   "outputs": [
    {
     "data": {
      "text/html": [
       "<div>\n",
       "<style scoped>\n",
       "    .dataframe tbody tr th:only-of-type {\n",
       "        vertical-align: middle;\n",
       "    }\n",
       "\n",
       "    .dataframe tbody tr th {\n",
       "        vertical-align: top;\n",
       "    }\n",
       "\n",
       "    .dataframe thead th {\n",
       "        text-align: right;\n",
       "    }\n",
       "</style>\n",
       "<table border=\"1\" class=\"dataframe\">\n",
       "  <thead>\n",
       "    <tr style=\"text-align: right;\">\n",
       "      <th></th>\n",
       "      <th>col1</th>\n",
       "      <th>deviations</th>\n",
       "    </tr>\n",
       "  </thead>\n",
       "  <tbody>\n",
       "    <tr>\n",
       "      <th>0</th>\n",
       "      <td>1</td>\n",
       "      <td>-4.0</td>\n",
       "    </tr>\n",
       "    <tr>\n",
       "      <th>1</th>\n",
       "      <td>25</td>\n",
       "      <td>20.0</td>\n",
       "    </tr>\n",
       "    <tr>\n",
       "      <th>2</th>\n",
       "      <td>3</td>\n",
       "      <td>-2.0</td>\n",
       "    </tr>\n",
       "    <tr>\n",
       "      <th>3</th>\n",
       "      <td>5</td>\n",
       "      <td>0.0</td>\n",
       "    </tr>\n",
       "    <tr>\n",
       "      <th>4</th>\n",
       "      <td>7</td>\n",
       "      <td>2.0</td>\n",
       "    </tr>\n",
       "  </tbody>\n",
       "</table>\n",
       "</div>"
      ],
      "text/plain": [
       "   col1  deviations\n",
       "0     1        -4.0\n",
       "1    25        20.0\n",
       "2     3        -2.0\n",
       "3     5         0.0\n",
       "4     7         2.0"
      ]
     },
     "execution_count": 5,
     "metadata": {},
     "output_type": "execute_result"
    }
   ],
   "source": [
    "list_[\"deviations\"] = [x - median_ for x in list_[\"col1\"]]\n",
    "list_"
   ]
  },
  {
   "cell_type": "markdown",
   "id": "e179c924",
   "metadata": {
    "pycharm": {
     "name": "#%% md\n"
    }
   },
   "source": [
    "The sum of deviations from the mean is zero. "
   ]
  },
  {
   "cell_type": "markdown",
   "id": "1897741d",
   "metadata": {
    "pycharm": {
     "name": "#%% md\n"
    }
   },
   "source": [
    "Mean absolute deviation consists in the sum of the absolute values of the deviations from the mean and their average\n",
    "\n",
    "$${Mean absolute deviation} =  \\frac{\\sum _{i=1}^{n} \\left | x_{i}-\\bar{x} \\right |}{n} $$"
   ]
  },
  {
   "cell_type": "markdown",
   "id": "9d23969d",
   "metadata": {
    "pycharm": {
     "name": "#%% md\n"
    }
   },
   "source": [
    "### Variance and standard deviation\n",
    "\n",
    "$$ s^{2} =  \\frac{\\sum _{i=1}^{n}  (x_{i}-\\bar{x})^{2} }{n-1}  $$\n",
    "\n",
    "$$s = \\sqrt{variance}$$\n",
    "\n",
    "They are sensitive to outliers since they are based on the squared deviations (both numbers are going to be very high in this example because of the \"25\" in the index 1 of col1)"
   ]
  },
  {
   "cell_type": "markdown",
   "id": "633f8c8a",
   "metadata": {
    "pycharm": {
     "name": "#%% md\n"
    }
   },
   "source": [
    "### Median absolute deviation \n",
    "\n",
    "Is a robust estimate of variability"
   ]
  },
  {
   "cell_type": "markdown",
   "id": "ee62176c",
   "metadata": {
    "pycharm": {
     "name": "#%% md\n"
    }
   },
   "source": [
    "$$MAD = Median(\\left | x_{1} -m \\right |, \\left | x_{2} -m \\right |,...,\\left | x_{N} -m \\right |)$$ \n",
    "where m is the median. "
   ]
  },
  {
   "cell_type": "markdown",
   "id": "ca188d8d",
   "metadata": {
    "pycharm": {
     "name": "#%% md\n"
    }
   },
   "source": [
    "### Percentiles \n",
    "\n",
    "To avoid sensitivity to outliers, we can look at the range of the data after dropping values from each end. The Pth percentile is a value such that at least P percent of the values take on this value or less and at least (100-P) percent of the values take on this value or more.\n",
    "\n",
    "They indicate the value below which a given percentage of observations in a group of observations fall\n",
    "\n",
    "Interquartile range is a measurement of variability, and it's the difference between 25th percentile and the 75th percentile. "
   ]
  },
  {
   "cell_type": "code",
   "execution_count": 6,
   "id": "1837bf13",
   "metadata": {
    "pycharm": {
     "name": "#%%\n"
    },
    "tags": [
     "hide-input"
    ]
   },
   "outputs": [
    {
     "name": "stdout",
     "output_type": "stream",
     "text": [
      "Mean absolute deviation 6.719999999999999\n",
      "Standar deviation 9.654014708917737\n",
      "Variance 93.2\n",
      "Median absolute deviation 2.965204437011204\n",
      "the IQR is 4.0\n"
     ]
    }
   ],
   "source": [
    "mean_abs_dev = list_[\"col1\"].mad()\n",
    "sd = list_[\"col1\"].std()\n",
    "var_ = list_[\"col1\"].var()\n",
    "mad = robust.scale.mad(list_[\"col1\"])\n",
    "print(f\"Mean absolute deviation {mean_abs_dev}\\nStandar deviation {sd}\\nVariance {var_}\\nMedian absolute deviation {mad}\")\n",
    "col1 = list_[\"col1\"]\n",
    "iqr = col1.quantile(0.75) - col1.quantile(0.25)\n",
    "print(f\"the IQR is {iqr}\")"
   ]
  },
  {
   "cell_type": "markdown",
   "id": "6d71efc3",
   "metadata": {
    "pycharm": {
     "name": "#%% md\n"
    }
   },
   "source": [
    "SD is always greater than mean absolute deviation, which is greater than the MAD"
   ]
  },
  {
   "cell_type": "markdown",
   "id": "31c7e8c1",
   "metadata": {
    "pycharm": {
     "name": "#%% md\n"
    }
   },
   "source": [
    "## Explore data distribution\n",
    "- **Boxplot**\n",
    "- **Frequency table**\n",
    "- **Histogram**\n",
    "- **Density plot**"
   ]
  },
  {
   "cell_type": "code",
   "execution_count": 7,
   "id": "423cacc0",
   "metadata": {
    "pycharm": {
     "name": "#%%\n"
    },
    "tags": [
     "hide-input"
    ]
   },
   "outputs": [
    {
     "data": {
      "text/html": [
       "<div>\n",
       "<style scoped>\n",
       "    .dataframe tbody tr th:only-of-type {\n",
       "        vertical-align: middle;\n",
       "    }\n",
       "\n",
       "    .dataframe tbody tr th {\n",
       "        vertical-align: top;\n",
       "    }\n",
       "\n",
       "    .dataframe thead th {\n",
       "        text-align: right;\n",
       "    }\n",
       "</style>\n",
       "<table border=\"1\" class=\"dataframe\">\n",
       "  <thead>\n",
       "    <tr style=\"text-align: right;\">\n",
       "      <th></th>\n",
       "      <th>a</th>\n",
       "      <th>b</th>\n",
       "    </tr>\n",
       "  </thead>\n",
       "  <tbody>\n",
       "    <tr>\n",
       "      <th>0</th>\n",
       "      <td>1</td>\n",
       "      <td>1</td>\n",
       "    </tr>\n",
       "    <tr>\n",
       "      <th>1</th>\n",
       "      <td>2</td>\n",
       "      <td>10</td>\n",
       "    </tr>\n",
       "    <tr>\n",
       "      <th>2</th>\n",
       "      <td>3</td>\n",
       "      <td>100</td>\n",
       "    </tr>\n",
       "    <tr>\n",
       "      <th>3</th>\n",
       "      <td>4</td>\n",
       "      <td>100</td>\n",
       "    </tr>\n",
       "    <tr>\n",
       "      <th>4</th>\n",
       "      <td>5</td>\n",
       "      <td>104</td>\n",
       "    </tr>\n",
       "    <tr>\n",
       "      <th>5</th>\n",
       "      <td>6</td>\n",
       "      <td>25</td>\n",
       "    </tr>\n",
       "  </tbody>\n",
       "</table>\n",
       "</div>"
      ],
      "text/plain": [
       "   a    b\n",
       "0  1    1\n",
       "1  2   10\n",
       "2  3  100\n",
       "3  4  100\n",
       "4  5  104\n",
       "5  6   25"
      ]
     },
     "execution_count": 7,
     "metadata": {},
     "output_type": "execute_result"
    }
   ],
   "source": [
    "df = pd.DataFrame(np.array([[1, 1], [2, 10], [3, 100], [4, 100], [5, 104], [6, 25]]),\n",
    "                  columns=['a', 'b'])\n",
    "df"
   ]
  },
  {
   "cell_type": "code",
   "execution_count": 8,
   "id": "dbef479a",
   "metadata": {
    "pycharm": {
     "name": "#%%\n"
    },
    "tags": [
     "hide-input"
    ]
   },
   "outputs": [
    {
     "name": "stdout",
     "output_type": "stream",
     "text": [
      "Percentiles of b by a\n"
     ]
    },
    {
     "data": {
      "text/plain": [
       "0.05      3.25\n",
       "0.25     13.75\n",
       "0.50     62.50\n",
       "0.75    100.00\n",
       "0.95    103.00\n",
       "Name: b, dtype: float64"
      ]
     },
     "execution_count": 8,
     "metadata": {},
     "output_type": "execute_result"
    }
   ],
   "source": [
    "print(\"Percentiles of b by a\")\n",
    "df.b.quantile([0.05, 0.25, 0.5, 0.75, 0.95])\n"
   ]
  },
  {
   "cell_type": "markdown",
   "id": "4444a6f5",
   "metadata": {
    "pycharm": {
     "name": "#%% md\n"
    }
   },
   "source": [
    "Boxplots are based on percentiles and give a quick way to visualize the distribution of data\n"
   ]
  },
  {
   "cell_type": "code",
   "execution_count": 9,
   "id": "fcac46fa",
   "metadata": {
    "pycharm": {
     "name": "#%%\n"
    },
    "tags": [
     "hide-input"
    ]
   },
   "outputs": [
    {
     "name": "stdout",
     "output_type": "stream",
     "text": [
      "The median is the middle line in the box, the top and bottom of the box are the 75th and 25th percentiles\n",
      "Horizontal lines from the top and bottom are the 95th and 5th percentiles.\n",
      "Outliers are sometimes plotted as individual dots that are in-line with whiskers (the vertical lines)\n"
     ]
    },
    {
     "data": {
      "image/png": "[encoded data removed]",
      "text/plain": [
       "<Figure size 640x480 with 1 Axes>"
      ]
     },
     "metadata": {},
     "output_type": "display_data"
    }
   ],
   "source": [
    "bp = (df.b/10).plot.box()\n",
    "bp.set_ylabel(\"b (tens)\")\n",
    "print(\"The median is the middle line in the box, the top and bottom of the box are the 75th and 25th percentiles\\n\"\n",
    "      \"Horizontal lines from the top and bottom are the 95th and 5th percentiles.\\n\"\n",
    "      \"Outliers are sometimes plotted as individual dots that are in-line with whiskers (the vertical lines)\")"
   ]
  },
  {
   "cell_type": "markdown",
   "id": "d9bea2c4",
   "metadata": {
    "pycharm": {
     "name": "#%% md\n"
    }
   },
   "source": [
    "### Frequency tables and histograms\n",
    "A frequency table (or frequency distribution) lists a set of values and how often each one appears.\n",
    "These tables help you understand which data values are common and which are rare.\n"
   ]
  },
  {
   "cell_type": "code",
   "execution_count": 10,
   "id": "5ef69d10",
   "metadata": {
    "pycharm": {
     "name": "#%%\n"
    },
    "tags": [
     "hide-input"
    ]
   },
   "outputs": [
    {
     "data": {
      "text/html": [
       "<div>\n",
       "<style scoped>\n",
       "    .dataframe tbody tr th:only-of-type {\n",
       "        vertical-align: middle;\n",
       "    }\n",
       "\n",
       "    .dataframe tbody tr th {\n",
       "        vertical-align: top;\n",
       "    }\n",
       "\n",
       "    .dataframe thead th {\n",
       "        text-align: right;\n",
       "    }\n",
       "</style>\n",
       "<table border=\"1\" class=\"dataframe\">\n",
       "  <thead>\n",
       "    <tr style=\"text-align: right;\">\n",
       "      <th></th>\n",
       "      <th>Owner</th>\n",
       "      <th>Pet</th>\n",
       "    </tr>\n",
       "  </thead>\n",
       "  <tbody>\n",
       "    <tr>\n",
       "      <th>0</th>\n",
       "      <td>Ana</td>\n",
       "      <td>Cat</td>\n",
       "    </tr>\n",
       "    <tr>\n",
       "      <th>1</th>\n",
       "      <td>María</td>\n",
       "      <td>Dog</td>\n",
       "    </tr>\n",
       "    <tr>\n",
       "      <th>2</th>\n",
       "      <td>Diana</td>\n",
       "      <td>Cat</td>\n",
       "    </tr>\n",
       "    <tr>\n",
       "      <th>3</th>\n",
       "      <td>Martha</td>\n",
       "      <td>Hamster</td>\n",
       "    </tr>\n",
       "    <tr>\n",
       "      <th>4</th>\n",
       "      <td>Lucía</td>\n",
       "      <td>Bunny</td>\n",
       "    </tr>\n",
       "    <tr>\n",
       "      <th>5</th>\n",
       "      <td>Liam</td>\n",
       "      <td>Cat</td>\n",
       "    </tr>\n",
       "    <tr>\n",
       "      <th>6</th>\n",
       "      <td>Noah</td>\n",
       "      <td>Cat</td>\n",
       "    </tr>\n",
       "    <tr>\n",
       "      <th>7</th>\n",
       "      <td>Oliver</td>\n",
       "      <td>Fish</td>\n",
       "    </tr>\n",
       "    <tr>\n",
       "      <th>8</th>\n",
       "      <td>Olivia</td>\n",
       "      <td>Snake</td>\n",
       "    </tr>\n",
       "  </tbody>\n",
       "</table>\n",
       "</div>"
      ],
      "text/plain": [
       "    Owner      Pet\n",
       "0     Ana      Cat\n",
       "1   María      Dog\n",
       "2   Diana      Cat\n",
       "3  Martha  Hamster\n",
       "4   Lucía    Bunny\n",
       "5    Liam      Cat\n",
       "6    Noah      Cat\n",
       "7  Oliver     Fish\n",
       "8  Olivia    Snake"
      ]
     },
     "execution_count": 10,
     "metadata": {},
     "output_type": "execute_result"
    }
   ],
   "source": [
    "df1 = pd.DataFrame(np.array([[\"Ana\", \"Cat\"], [\"María\", \"Dog\"], [\"Diana\", \"Cat\"], [\"Martha\", \"Hamster\"], [\"Lucía\", \"Bunny\"], [\"Liam\", \"Cat\"],[\"Noah\", \"Cat\"],[\"Oliver\", \"Fish\"],[\"Olivia\", \"Snake\"]]),\n",
    "                  columns=['Owner', 'Pet'])\n",
    "df1\n"
   ]
  },
  {
   "cell_type": "code",
   "execution_count": 11,
   "id": "8a825fb5",
   "metadata": {
    "pycharm": {
     "name": "#%%\n"
    },
    "tags": [
     "hide-input"
    ]
   },
   "outputs": [
    {
     "data": {
      "text/plain": [
       "Cat        4\n",
       "Dog        1\n",
       "Hamster    1\n",
       "Bunny      1\n",
       "Fish       1\n",
       "Snake      1\n",
       "Name: Pet, dtype: int64"
      ]
     },
     "execution_count": 11,
     "metadata": {},
     "output_type": "execute_result"
    }
   ],
   "source": [
    "df1.Pet.value_counts()\n"
   ]
  },
  {
   "cell_type": "markdown",
   "id": "c92def9b",
   "metadata": {
    "pycharm": {
     "name": "#%% md\n"
    }
   },
   "source": [
    "Values can be mapped into segments using the pandas .cut function.\n"
   ]
  },
  {
   "cell_type": "code",
   "execution_count": 12,
   "id": "2a03ac88",
   "metadata": {
    "pycharm": {
     "name": "#%%\n"
    },
    "tags": [
     "hide-input"
    ]
   },
   "outputs": [
    {
     "data": {
      "text/html": [
       "<div>\n",
       "<style scoped>\n",
       "    .dataframe tbody tr th:only-of-type {\n",
       "        vertical-align: middle;\n",
       "    }\n",
       "\n",
       "    .dataframe tbody tr th {\n",
       "        vertical-align: top;\n",
       "    }\n",
       "\n",
       "    .dataframe thead th {\n",
       "        text-align: right;\n",
       "    }\n",
       "</style>\n",
       "<table border=\"1\" class=\"dataframe\">\n",
       "  <thead>\n",
       "    <tr style=\"text-align: right;\">\n",
       "      <th></th>\n",
       "      <th>State</th>\n",
       "      <th>Aggregate gross value 2020</th>\n",
       "    </tr>\n",
       "  </thead>\n",
       "  <tbody>\n",
       "    <tr>\n",
       "      <th>6</th>\n",
       "      <td>Aguascalientes</td>\n",
       "      <td>204726.037</td>\n",
       "    </tr>\n",
       "    <tr>\n",
       "      <th>7</th>\n",
       "      <td>Baja California</td>\n",
       "      <td>553650.356</td>\n",
       "    </tr>\n",
       "    <tr>\n",
       "      <th>8</th>\n",
       "      <td>Baja California Sur</td>\n",
       "      <td>121985.608</td>\n",
       "    </tr>\n",
       "    <tr>\n",
       "      <th>9</th>\n",
       "      <td>Campeche</td>\n",
       "      <td>481994.490</td>\n",
       "    </tr>\n",
       "    <tr>\n",
       "      <th>10</th>\n",
       "      <td>Coahuila de Zaragoza</td>\n",
       "      <td>535558.427</td>\n",
       "    </tr>\n",
       "    <tr>\n",
       "      <th>11</th>\n",
       "      <td>Colima</td>\n",
       "      <td>101247.641</td>\n",
       "    </tr>\n",
       "    <tr>\n",
       "      <th>12</th>\n",
       "      <td>Chiapas</td>\n",
       "      <td>254356.257</td>\n",
       "    </tr>\n",
       "    <tr>\n",
       "      <th>13</th>\n",
       "      <td>Chihuahua</td>\n",
       "      <td>538030.466</td>\n",
       "    </tr>\n",
       "    <tr>\n",
       "      <th>14</th>\n",
       "      <td>Ciudad de México</td>\n",
       "      <td>2856750.909</td>\n",
       "    </tr>\n",
       "    <tr>\n",
       "      <th>15</th>\n",
       "      <td>Durango</td>\n",
       "      <td>189703.349</td>\n",
       "    </tr>\n",
       "    <tr>\n",
       "      <th>16</th>\n",
       "      <td>Guanajuato</td>\n",
       "      <td>650174.559</td>\n",
       "    </tr>\n",
       "    <tr>\n",
       "      <th>17</th>\n",
       "      <td>Guerrero</td>\n",
       "      <td>219138.427</td>\n",
       "    </tr>\n",
       "    <tr>\n",
       "      <th>18</th>\n",
       "      <td>Hidalgo</td>\n",
       "      <td>243488.874</td>\n",
       "    </tr>\n",
       "    <tr>\n",
       "      <th>19</th>\n",
       "      <td>Jalisco</td>\n",
       "      <td>1125698.536</td>\n",
       "    </tr>\n",
       "    <tr>\n",
       "      <th>20</th>\n",
       "      <td>México</td>\n",
       "      <td>1484568.874</td>\n",
       "    </tr>\n",
       "    <tr>\n",
       "      <th>21</th>\n",
       "      <td>Michoacán de Ocampo</td>\n",
       "      <td>396644.274</td>\n",
       "    </tr>\n",
       "    <tr>\n",
       "      <th>22</th>\n",
       "      <td>Morelos</td>\n",
       "      <td>179567.493</td>\n",
       "    </tr>\n",
       "    <tr>\n",
       "      <th>23</th>\n",
       "      <td>Nayarit</td>\n",
       "      <td>107124.831</td>\n",
       "    </tr>\n",
       "    <tr>\n",
       "      <th>24</th>\n",
       "      <td>Nuevo León</td>\n",
       "      <td>1267121.013</td>\n",
       "    </tr>\n",
       "    <tr>\n",
       "      <th>25</th>\n",
       "      <td>Oaxaca</td>\n",
       "      <td>237176.764</td>\n",
       "    </tr>\n",
       "    <tr>\n",
       "      <th>26</th>\n",
       "      <td>Puebla</td>\n",
       "      <td>531159.173</td>\n",
       "    </tr>\n",
       "    <tr>\n",
       "      <th>27</th>\n",
       "      <td>Querétaro</td>\n",
       "      <td>365428.624</td>\n",
       "    </tr>\n",
       "    <tr>\n",
       "      <th>28</th>\n",
       "      <td>Quintana Roo</td>\n",
       "      <td>222133.890</td>\n",
       "    </tr>\n",
       "    <tr>\n",
       "      <th>29</th>\n",
       "      <td>San Luis Potosí</td>\n",
       "      <td>341481.841</td>\n",
       "    </tr>\n",
       "    <tr>\n",
       "      <th>30</th>\n",
       "      <td>Sinaloa</td>\n",
       "      <td>369802.681</td>\n",
       "    </tr>\n",
       "    <tr>\n",
       "      <th>31</th>\n",
       "      <td>Sonora</td>\n",
       "      <td>551290.303</td>\n",
       "    </tr>\n",
       "    <tr>\n",
       "      <th>32</th>\n",
       "      <td>Tabasco</td>\n",
       "      <td>464462.272</td>\n",
       "    </tr>\n",
       "    <tr>\n",
       "      <th>33</th>\n",
       "      <td>Tamaulipas</td>\n",
       "      <td>473081.269</td>\n",
       "    </tr>\n",
       "    <tr>\n",
       "      <th>34</th>\n",
       "      <td>Tlaxcala</td>\n",
       "      <td>90940.710</td>\n",
       "    </tr>\n",
       "    <tr>\n",
       "      <th>35</th>\n",
       "      <td>Veracruz de Ignacio de la Llave</td>\n",
       "      <td>737613.128</td>\n",
       "    </tr>\n",
       "    <tr>\n",
       "      <th>36</th>\n",
       "      <td>Yucatán</td>\n",
       "      <td>242545.350</td>\n",
       "    </tr>\n",
       "    <tr>\n",
       "      <th>37</th>\n",
       "      <td>Zacatecas</td>\n",
       "      <td>145329.949</td>\n",
       "    </tr>\n",
       "  </tbody>\n",
       "</table>\n",
       "</div>"
      ],
      "text/plain": [
       "                              State  Aggregate gross value 2020\n",
       "6                    Aguascalientes                  204726.037\n",
       "7                   Baja California                  553650.356\n",
       "8               Baja California Sur                  121985.608\n",
       "9                          Campeche                  481994.490\n",
       "10             Coahuila de Zaragoza                  535558.427\n",
       "11                           Colima                  101247.641\n",
       "12                          Chiapas                  254356.257\n",
       "13                        Chihuahua                  538030.466\n",
       "14                 Ciudad de México                 2856750.909\n",
       "15                          Durango                  189703.349\n",
       "16                       Guanajuato                  650174.559\n",
       "17                         Guerrero                  219138.427\n",
       "18                          Hidalgo                  243488.874\n",
       "19                          Jalisco                 1125698.536\n",
       "20                           México                 1484568.874\n",
       "21              Michoacán de Ocampo                  396644.274\n",
       "22                          Morelos                  179567.493\n",
       "23                          Nayarit                  107124.831\n",
       "24                       Nuevo León                 1267121.013\n",
       "25                           Oaxaca                  237176.764\n",
       "26                           Puebla                  531159.173\n",
       "27                        Querétaro                  365428.624\n",
       "28                     Quintana Roo                  222133.890\n",
       "29                  San Luis Potosí                  341481.841\n",
       "30                          Sinaloa                  369802.681\n",
       "31                           Sonora                  551290.303\n",
       "32                          Tabasco                  464462.272\n",
       "33                       Tamaulipas                  473081.269\n",
       "34                         Tlaxcala                   90940.710\n",
       "35  Veracruz de Ignacio de la Llave                  737613.128\n",
       "36                          Yucatán                  242545.350\n",
       "37                        Zacatecas                  145329.949"
      ]
     },
     "execution_count": 12,
     "metadata": {},
     "output_type": "execute_result"
    }
   ],
   "source": [
    "import re\n",
    "# Make a table from Gross domestic product by state in Mexico.\n",
    "# I chose to use the \"aggregate gross value from 2020\"\n",
    "pibe = pd.read_csv(\"datasets/PIBE_2.csv\")\n",
    "pibe = pibe[6:38]\n",
    "pibe.rename(columns={\"Concepto\": \"State\", \"2020 R\": \"Aggregate gross value 2020\"}, inplace=True)\n",
    "pibe = pibe[[\"State\", \"Aggregate gross value 2020\"]]\n",
    "pibe"
   ]
  },
  {
   "cell_type": "code",
   "execution_count": 13,
   "id": "ae404c92",
   "metadata": {
    "pycharm": {
     "name": "#%%\n"
    },
    "tags": [
     "hide-input"
    ]
   },
   "outputs": [
    {
     "name": "stdout",
     "output_type": "stream",
     "text": [
      "A Frequency table from the aggregate gross value in 2020\n"
     ]
    },
    {
     "data": {
      "text/plain": [
       "(88174.9, 367521.73]          16\n",
       "(367521.73, 644102.75]        10\n",
       "(644102.75, 920683.77]         2\n",
       "(920683.77, 1197264.79]        1\n",
       "(1197264.79, 1473845.809]      1\n",
       "(1473845.809, 1750426.829]     1\n",
       "(2580169.889, 2856750.909]     1\n",
       "(1750426.829, 2027007.849]     0\n",
       "(2027007.849, 2303588.869]     0\n",
       "(2303588.869, 2580169.889]     0\n",
       "Name: Aggregate gross value 2020, dtype: int64"
      ]
     },
     "execution_count": 13,
     "metadata": {},
     "output_type": "execute_result"
    }
   ],
   "source": [
    "binnedVAB = pd.cut(pibe[\"Aggregate gross value 2020\"], 10)\n",
    "print(\"A Frequency table from the aggregate gross value in 2020\")\n",
    "binnedVAB.value_counts()"
   ]
  },
  {
   "cell_type": "markdown",
   "id": "9f1ba61d",
   "metadata": {
    "pycharm": {
     "name": "#%% md\n"
    }
   },
   "source": [
    "### Histogram\n",
    "a graph that shows the frequency of numerical data using rectangles\n"
   ]
  },
  {
   "cell_type": "code",
   "execution_count": 14,
   "id": "8b24a73f",
   "metadata": {
    "pycharm": {
     "name": "#%%\n"
    },
    "tags": [
     "hide-input"
    ]
   },
   "outputs": [
    {
     "data": {
      "text/plain": [
       "Text(0.5, 0, 'Aggregate gross value (Millions)')"
      ]
     },
     "execution_count": 14,
     "metadata": {},
     "output_type": "execute_result"
    },
    {
     "data": {
      "image/png": "[encoded data removed]",
      "text/plain": [
       "<Figure size 400x400 with 1 Axes>"
      ]
     },
     "metadata": {},
     "output_type": "display_data"
    }
   ],
   "source": [
    "ax = (pibe['Aggregate gross value 2020'] / 1_000_000).plot.hist(figsize=(4, 4))\n",
    "ax.set_xlabel('Aggregate gross value (Millions)')\n"
   ]
  },
  {
   "cell_type": "markdown",
   "id": "597fc37e",
   "metadata": {
    "pycharm": {
     "name": "#%% md\n"
    }
   },
   "source": [
    "### Density Plot\n",
    "visualises the distribution of data over a continuous interval or time period. This chart is a variation of a Histogram that uses kernel smoothing to plot values, allowing for smoother distributions by smoothing out the noise\n"
   ]
  },
  {
   "cell_type": "code",
   "execution_count": 15,
   "id": "2818df16",
   "metadata": {
    "pycharm": {
     "name": "#%%\n"
    },
    "tags": [
     "hide-input"
    ]
   },
   "outputs": [
    {
     "data": {
      "text/plain": [
       "<seaborn.axisgrid.FacetGrid at 0x7f4615050e20>"
      ]
     },
     "execution_count": 15,
     "metadata": {},
     "output_type": "execute_result"
    },
    {
     "data": {
      "image/png": "[encoded data removed]",
      "text/plain": [
       "<Figure size 500x500 with 1 Axes>"
      ]
     },
     "metadata": {},
     "output_type": "display_data"
    }
   ],
   "source": [
    "sns.displot(data=pibe, x=\"Aggregate gross value 2020\", kde=True)\n"
   ]
  },
  {
   "cell_type": "markdown",
   "id": "0db04a2f",
   "metadata": {
    "pycharm": {
     "name": "#%% md\n"
    }
   },
   "source": [
    "## Binary and categorical data\n",
    "\n",
    "- **Mode**\n",
    "- **Expected value**\n",
    "- **Bar charts**\n",
    "- **Pie charts**"
   ]
  },
  {
   "cell_type": "markdown",
   "id": "99bace20",
   "metadata": {
    "pycharm": {
     "name": "#%% md\n"
    }
   },
   "source": [
    "### Bar charts\n",
    "A bar chart is a graph with rectangular bars. The graph usually compares different categories. Although the graphs can be plotted vertically (bars standing up) or horizontally (bars laying flat from left to right), the most usual type of bar graph is vertical. \n",
    "Categories are listed on the x-axis and frequencies or proportions on the y-axis."
   ]
  },
  {
   "cell_type": "code",
   "execution_count": 16,
   "id": "f99e2db5",
   "metadata": {
    "pycharm": {
     "name": "#%%\n"
    },
    "tags": [
     "hide-input"
    ]
   },
   "outputs": [
    {
     "data": {
      "text/html": [
       "<div>\n",
       "<style scoped>\n",
       "    .dataframe tbody tr th:only-of-type {\n",
       "        vertical-align: middle;\n",
       "    }\n",
       "\n",
       "    .dataframe tbody tr th {\n",
       "        vertical-align: top;\n",
       "    }\n",
       "\n",
       "    .dataframe thead th {\n",
       "        text-align: right;\n",
       "    }\n",
       "</style>\n",
       "<table border=\"1\" class=\"dataframe\">\n",
       "  <thead>\n",
       "    <tr style=\"text-align: right;\">\n",
       "      <th></th>\n",
       "      <th>Food Type</th>\n",
       "      <th>Year</th>\n",
       "      <th>Land Use (in sqm)</th>\n",
       "    </tr>\n",
       "  </thead>\n",
       "  <tbody>\n",
       "    <tr>\n",
       "      <th>0</th>\n",
       "      <td>Beef/Mutton</td>\n",
       "      <td>2017</td>\n",
       "      <td>1.024301</td>\n",
       "    </tr>\n",
       "    <tr>\n",
       "      <th>5</th>\n",
       "      <td>Pork</td>\n",
       "      <td>2017</td>\n",
       "      <td>0.129945</td>\n",
       "    </tr>\n",
       "    <tr>\n",
       "      <th>3</th>\n",
       "      <td>Fresh Produce</td>\n",
       "      <td>2017</td>\n",
       "      <td>0.098235</td>\n",
       "    </tr>\n",
       "    <tr>\n",
       "      <th>6</th>\n",
       "      <td>Poultry</td>\n",
       "      <td>2017</td>\n",
       "      <td>0.075102</td>\n",
       "    </tr>\n",
       "    <tr>\n",
       "      <th>2</th>\n",
       "      <td>Eggs</td>\n",
       "      <td>2017</td>\n",
       "      <td>0.051358</td>\n",
       "    </tr>\n",
       "  </tbody>\n",
       "</table>\n",
       "</div>"
      ],
      "text/plain": [
       "       Food Type  Year  Land Use (in sqm)\n",
       "0    Beef/Mutton  2017           1.024301\n",
       "5           Pork  2017           0.129945\n",
       "3  Fresh Produce  2017           0.098235\n",
       "6        Poultry  2017           0.075102\n",
       "2           Eggs  2017           0.051358"
      ]
     },
     "execution_count": 16,
     "metadata": {},
     "output_type": "execute_result"
    }
   ],
   "source": [
    "land_use = pd.read_excel(\"datasets/Land-use-per-gram-of-protein.xlsx\")\n",
    "land_use.sort_values(by=\"Land Use (in sqm)\", ascending=False, inplace=True)\n",
    "land_use.head()\n",
    "\n"
   ]
  },
  {
   "cell_type": "code",
   "execution_count": 17,
   "id": "bf920d83",
   "metadata": {
    "pycharm": {
     "name": "#%%\n"
    },
    "tags": [
     "hide-input"
    ]
   },
   "outputs": [
    {
     "name": "stdout",
     "output_type": "stream",
     "text": [
      "Land use per gram of protein\n"
     ]
    },
    {
     "data": {
      "text/plain": [
       "<AxesSubplot:xlabel='Land Use (in sqm)', ylabel='Food Type'>"
      ]
     },
     "execution_count": 17,
     "metadata": {},
     "output_type": "execute_result"
    },
    {
     "data": {
      "image/png": "[encoded data removed]",
      "text/plain": [
       "<Figure size 640x480 with 1 Axes>"
      ]
     },
     "metadata": {},
     "output_type": "display_data"
    }
   ],
   "source": [
    "print(\"Land use per gram of protein\")\n",
    "sns.barplot(data=land_use, x=\"Land Use (in sqm)\", y=\"Food Type\")\n"
   ]
  },
  {
   "cell_type": "markdown",
   "id": "fc8d67f7",
   "metadata": {
    "pycharm": {
     "name": "#%% md\n"
    }
   },
   "source": [
    "### Mode\n",
    "Is the value or values in case of a tie that appears most often in the data.\n",
    "\n",
    "### Expected value\n",
    "It's a generalization of the weighted average.\n",
    "It's the arithmetic mean of a large number of independently selected outcomes of a random variable\n",
    "\n",
    "Multiply each outcome by its probability of occurrence: E.g. in a multiple choice with \"a\", \"b\", \"c\" and \"d\" as possible answers and 20 questions. guessing all \"a\", then you can expect to get 25% right (5 out of 20).\n",
    "The probability (P) of getting a question right if you guess: .25\n",
    "The number of questions on the test (n)*: 20\n",
    "P x n = .25 x 20 = 5\n"
   ]
  },
  {
   "cell_type": "markdown",
   "id": "97ad01a6",
   "metadata": {
    "pycharm": {
     "name": "#%% md\n"
    }
   },
   "source": [
    "### Probability\n",
    "\n",
    "For simple means, the probability that an event will happen is the proportion of times it will occur if the situation could be repeated over and over, countless times.\n"
   ]
  },
  {
   "cell_type": "markdown",
   "id": "6a67e928",
   "metadata": {
    "pycharm": {
     "name": "#%% md\n"
    }
   },
   "source": [
    "## Correlation\n",
    "Any statistical relationship, whether causal or not, between two random variables or bi-variate data.\n",
    "\n",
    "- **Correlation coefficient**\n",
    "- **Correlation matrix**\n",
    "- **Scatterplot**\n"
   ]
  },
  {
   "cell_type": "markdown",
   "id": "4d254168",
   "metadata": {
    "pycharm": {
     "name": "#%% md\n"
    }
   },
   "source": [
    "### Correlation coefficient\n",
    "gives an estimate of the correlation between two variables that always lies on the same scale.\n",
    "\n",
    "To compute Pearson's Correlation Coefficient, multiply deviations from the mean for variable 1 times those for variable 2 and divide by the product of the standard deviations.\n",
    "\n",
    "$$r = \\sum_{i=1}^{n}\\frac{\\left (x_{i}-\\bar{x} \\right )\\left(y_{i}-\\bar{y} \\right )}{(n-1)s_{x}s_{y}}$$\n"
   ]
  },
  {
   "cell_type": "code",
   "execution_count": 18,
   "id": "9f477954",
   "metadata": {
    "pycharm": {
     "name": "#%%\n"
    },
    "tags": [
     "hide-input"
    ]
   },
   "outputs": [
    {
     "data": {
      "text/plain": [
       "<AxesSubplot:>"
      ]
     },
     "execution_count": 18,
     "metadata": {},
     "output_type": "execute_result"
    },
    {
     "data": {
      "image/png": "[encoded data removed]",
      "text/plain": [
       "<Figure size 1100x900 with 2 Axes>"
      ]
     },
     "metadata": {},
     "output_type": "display_data"
    }
   ],
   "source": [
    "from string import ascii_letters\n",
    "import matplotlib.pyplot as plt\n",
    "rs = np.random.RandomState(33)\n",
    "d = pd.DataFrame(data=rs.normal(size=(100, 26)),\n",
    "                 columns=list(ascii_letters[26:]))\n",
    "corr = d.corr()\n",
    "mask = np.triu(np.ones_like(corr, dtype=bool))\n",
    "f, ax = plt.subplots(figsize=(11, 9))\n",
    "cmap = sns.diverging_palette(230, 20, as_cmap=True)\n",
    "sns.heatmap(corr, mask=mask, cmap=cmap, vmax=.3, center=0,\n",
    "            square=True, linewidths=.5, cbar_kws={\"shrink\": .5})\n"
   ]
  },
  {
   "cell_type": "code",
   "execution_count": 19,
   "id": "b681de0f",
   "metadata": {
    "pycharm": {
     "name": "#%%\n"
    },
    "tags": [
     "hide-input"
    ]
   },
   "outputs": [
    {
     "data": {
      "text/html": [
       "<div>\n",
       "<style scoped>\n",
       "    .dataframe tbody tr th:only-of-type {\n",
       "        vertical-align: middle;\n",
       "    }\n",
       "\n",
       "    .dataframe tbody tr th {\n",
       "        vertical-align: top;\n",
       "    }\n",
       "\n",
       "    .dataframe thead th {\n",
       "        text-align: right;\n",
       "    }\n",
       "</style>\n",
       "<table border=\"1\" class=\"dataframe\">\n",
       "  <thead>\n",
       "    <tr style=\"text-align: right;\">\n",
       "      <th></th>\n",
       "      <th>A</th>\n",
       "      <th>B</th>\n",
       "      <th>C</th>\n",
       "      <th>D</th>\n",
       "      <th>E</th>\n",
       "      <th>F</th>\n",
       "      <th>G</th>\n",
       "      <th>H</th>\n",
       "      <th>I</th>\n",
       "      <th>J</th>\n",
       "      <th>...</th>\n",
       "      <th>Q</th>\n",
       "      <th>R</th>\n",
       "      <th>S</th>\n",
       "      <th>T</th>\n",
       "      <th>U</th>\n",
       "      <th>V</th>\n",
       "      <th>W</th>\n",
       "      <th>X</th>\n",
       "      <th>Y</th>\n",
       "      <th>Z</th>\n",
       "    </tr>\n",
       "  </thead>\n",
       "  <tbody>\n",
       "    <tr>\n",
       "      <th>A</th>\n",
       "      <td>1.000000</td>\n",
       "      <td>-0.107401</td>\n",
       "      <td>-0.086468</td>\n",
       "      <td>0.000131</td>\n",
       "      <td>0.035047</td>\n",
       "      <td>0.004749</td>\n",
       "      <td>0.028226</td>\n",
       "      <td>0.000422</td>\n",
       "      <td>0.132100</td>\n",
       "      <td>0.057720</td>\n",
       "      <td>...</td>\n",
       "      <td>0.073645</td>\n",
       "      <td>-0.055396</td>\n",
       "      <td>-0.058241</td>\n",
       "      <td>-0.123823</td>\n",
       "      <td>0.096451</td>\n",
       "      <td>-0.015178</td>\n",
       "      <td>0.172725</td>\n",
       "      <td>0.003791</td>\n",
       "      <td>0.005531</td>\n",
       "      <td>-0.011534</td>\n",
       "    </tr>\n",
       "    <tr>\n",
       "      <th>B</th>\n",
       "      <td>-0.107401</td>\n",
       "      <td>1.000000</td>\n",
       "      <td>0.254632</td>\n",
       "      <td>0.061506</td>\n",
       "      <td>0.043581</td>\n",
       "      <td>-0.078019</td>\n",
       "      <td>0.069133</td>\n",
       "      <td>-0.211278</td>\n",
       "      <td>-0.011796</td>\n",
       "      <td>0.085277</td>\n",
       "      <td>...</td>\n",
       "      <td>0.031315</td>\n",
       "      <td>0.100451</td>\n",
       "      <td>-0.103068</td>\n",
       "      <td>0.011187</td>\n",
       "      <td>-0.008536</td>\n",
       "      <td>-0.030730</td>\n",
       "      <td>-0.022978</td>\n",
       "      <td>-0.050483</td>\n",
       "      <td>-0.014468</td>\n",
       "      <td>0.078737</td>\n",
       "    </tr>\n",
       "    <tr>\n",
       "      <th>C</th>\n",
       "      <td>-0.086468</td>\n",
       "      <td>0.254632</td>\n",
       "      <td>1.000000</td>\n",
       "      <td>-0.033682</td>\n",
       "      <td>-0.127464</td>\n",
       "      <td>0.141223</td>\n",
       "      <td>0.164793</td>\n",
       "      <td>-0.188574</td>\n",
       "      <td>-0.230059</td>\n",
       "      <td>0.145777</td>\n",
       "      <td>...</td>\n",
       "      <td>0.010497</td>\n",
       "      <td>0.051872</td>\n",
       "      <td>0.084793</td>\n",
       "      <td>0.167976</td>\n",
       "      <td>-0.043806</td>\n",
       "      <td>-0.057125</td>\n",
       "      <td>0.125580</td>\n",
       "      <td>-0.068426</td>\n",
       "      <td>-0.052764</td>\n",
       "      <td>0.094661</td>\n",
       "    </tr>\n",
       "    <tr>\n",
       "      <th>D</th>\n",
       "      <td>0.000131</td>\n",
       "      <td>0.061506</td>\n",
       "      <td>-0.033682</td>\n",
       "      <td>1.000000</td>\n",
       "      <td>0.086054</td>\n",
       "      <td>-0.153212</td>\n",
       "      <td>-0.000963</td>\n",
       "      <td>-0.017282</td>\n",
       "      <td>-0.109283</td>\n",
       "      <td>0.011056</td>\n",
       "      <td>...</td>\n",
       "      <td>-0.136959</td>\n",
       "      <td>-0.061816</td>\n",
       "      <td>0.134112</td>\n",
       "      <td>0.081143</td>\n",
       "      <td>0.124706</td>\n",
       "      <td>0.194911</td>\n",
       "      <td>-0.016944</td>\n",
       "      <td>-0.116963</td>\n",
       "      <td>0.054315</td>\n",
       "      <td>0.014383</td>\n",
       "    </tr>\n",
       "    <tr>\n",
       "      <th>E</th>\n",
       "      <td>0.035047</td>\n",
       "      <td>0.043581</td>\n",
       "      <td>-0.127464</td>\n",
       "      <td>0.086054</td>\n",
       "      <td>1.000000</td>\n",
       "      <td>-0.007159</td>\n",
       "      <td>0.157224</td>\n",
       "      <td>-0.096254</td>\n",
       "      <td>0.043785</td>\n",
       "      <td>0.015117</td>\n",
       "      <td>...</td>\n",
       "      <td>0.090499</td>\n",
       "      <td>0.041276</td>\n",
       "      <td>0.076138</td>\n",
       "      <td>0.027021</td>\n",
       "      <td>0.069976</td>\n",
       "      <td>-0.021745</td>\n",
       "      <td>0.104822</td>\n",
       "      <td>-0.047913</td>\n",
       "      <td>0.120465</td>\n",
       "      <td>0.080980</td>\n",
       "    </tr>\n",
       "  </tbody>\n",
       "</table>\n",
       "<p>5 rows × 26 columns</p>\n",
       "</div>"
      ],
      "text/plain": [
       "          A         B         C         D         E         F         G  \\\n",
       "A  1.000000 -0.107401 -0.086468  0.000131  0.035047  0.004749  0.028226   \n",
       "B -0.107401  1.000000  0.254632  0.061506  0.043581 -0.078019  0.069133   \n",
       "C -0.086468  0.254632  1.000000 -0.033682 -0.127464  0.141223  0.164793   \n",
       "D  0.000131  0.061506 -0.033682  1.000000  0.086054 -0.153212 -0.000963   \n",
       "E  0.035047  0.043581 -0.127464  0.086054  1.000000 -0.007159  0.157224   \n",
       "\n",
       "          H         I         J  ...         Q         R         S         T  \\\n",
       "A  0.000422  0.132100  0.057720  ...  0.073645 -0.055396 -0.058241 -0.123823   \n",
       "B -0.211278 -0.011796  0.085277  ...  0.031315  0.100451 -0.103068  0.011187   \n",
       "C -0.188574 -0.230059  0.145777  ...  0.010497  0.051872  0.084793  0.167976   \n",
       "D -0.017282 -0.109283  0.011056  ... -0.136959 -0.061816  0.134112  0.081143   \n",
       "E -0.096254  0.043785  0.015117  ...  0.090499  0.041276  0.076138  0.027021   \n",
       "\n",
       "          U         V         W         X         Y         Z  \n",
       "A  0.096451 -0.015178  0.172725  0.003791  0.005531 -0.011534  \n",
       "B -0.008536 -0.030730 -0.022978 -0.050483 -0.014468  0.078737  \n",
       "C -0.043806 -0.057125  0.125580 -0.068426 -0.052764  0.094661  \n",
       "D  0.124706  0.194911 -0.016944 -0.116963  0.054315  0.014383  \n",
       "E  0.069976 -0.021745  0.104822 -0.047913  0.120465  0.080980  \n",
       "\n",
       "[5 rows x 26 columns]"
      ]
     },
     "execution_count": 19,
     "metadata": {},
     "output_type": "execute_result"
    }
   ],
   "source": [
    "# A similar result can be achieved with pandas .corr()\n",
    "d.corr().head(5)\n"
   ]
  },
  {
   "cell_type": "markdown",
   "id": "42fe38a6",
   "metadata": {
    "pycharm": {
     "name": "#%% md\n"
    }
   },
   "source": [
    "There are other types of correlation coefficients such as Spearman's rho or Kendall's tau. They are based on the rank of the data, so they are robust to outliers and can handle certain types of nonlinearities.\n",
    "However, data scientist can generally stick to Pearson's correlation coefficient and its robust alternatives for exploratory analysis. The appeal of rank based estimates is mostly for smaller data sets and specific hypothesis tests.\n"
   ]
  },
  {
   "cell_type": "markdown",
   "id": "44942fea",
   "metadata": {
    "pycharm": {
     "name": "#%% md\n"
    }
   },
   "source": [
    "### Scatterplots\n",
    "is a type of data display that shows the relationship between two numerical variables.\n",
    "\n",
    "for the next example I selected two columns with strong correlation based on the previous heatmap\n"
   ]
  },
  {
   "cell_type": "code",
   "execution_count": 20,
   "id": "3754c70f",
   "metadata": {
    "pycharm": {
     "name": "#%%\n"
    },
    "tags": [
     "hide-input"
    ]
   },
   "outputs": [
    {
     "data": {
      "text/plain": [
       "<AxesSubplot:xlabel='N', ylabel='S'>"
      ]
     },
     "execution_count": 20,
     "metadata": {},
     "output_type": "execute_result"
    },
    {
     "data": {
      "image/png": "[encoded data removed]",
      "text/plain": [
       "<Figure size 640x480 with 1 Axes>"
      ]
     },
     "metadata": {},
     "output_type": "display_data"
    }
   ],
   "source": [
    "sns.scatterplot(data=d, x=\"N\", y=\"S\")\n"
   ]
  },
  {
   "cell_type": "code",
   "execution_count": null,
   "id": "6cdfecc5",
   "metadata": {
    "pycharm": {
     "name": "#%%\n"
    }
   },
   "outputs": [],
   "source": []
  }
 ],
 "metadata": {
  "celltoolbar": "Raw Cell Format",
  "kernelspec": {
   "display_name": "Python 3 (ipykernel)",
   "language": "python",
   "name": "python3"
  },
  "language_info": {
   "codemirror_mode": {
    "name": "ipython",
    "version": 3
   },
   "file_extension": ".py",
   "mimetype": "text/x-python",
   "name": "python",
   "nbconvert_exporter": "python",
   "pygments_lexer": "ipython3",
   "version": "3.10.7"
  }
 },
 "nbformat": 4,
 "nbformat_minor": 5
}