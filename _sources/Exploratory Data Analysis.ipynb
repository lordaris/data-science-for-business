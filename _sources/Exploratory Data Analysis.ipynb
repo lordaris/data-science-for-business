{
 "cells": [
  {
   "cell_type": "markdown",
   "id": "a6a11a4a",
   "metadata": {},
   "source": [
    "# Exploratory Data Analysis"
   ]
  },
  {
   "cell_type": "markdown",
   "id": "65d07fbf",
   "metadata": {},
   "source": [
    "## Statistics \n",
    "\n",
    "Is a branch of applied mathematics that involves the collection, description, analysis, and inference of conclusions from quantitative data."
   ]
  },
  {
   "cell_type": "markdown",
   "id": "51b9cba7",
   "metadata": {},
   "source": [
    "## Key terms for data types\n",
    "\n",
    "- **Numeric**: Data expressed on a numerical scale\n",
    "    - **Continuous**: Tada that can take on any value in an interval (interval, float, numeric). E.g. time duration or wind speed. \n",
    "    - **Discrete**: Can take on only integer values such as counts. (integer, count). E.g. Count of the occurrence of an event. \n",
    "- **Categorical**: Can take on only a specific set of values representing a set of possible categories (enums, enumerated, factors, nominal, polychotomous). E.g. A fixed set of values such as the type of something or a state name. \n",
    "    - **Binary**: Just two categories of values (dichotomous, logical, indicator, boolean). E.g. 0 or 1, true or false\n",
    "    - **Ordinal**: Categorical data that has an explicit ordering (ordered factor). E.g. A numerical rating (1, 2 or 3).\n"
   ]
  },
  {
   "cell_type": "markdown",
   "id": "244585d4",
   "metadata": {},
   "source": [
    "The data type is important to help determine the type of visual display, data analysis or statistical model. "
   ]
  },
  {
   "cell_type": "markdown",
   "id": "d486c7fd",
   "metadata": {},
   "source": [
    "## Rectangular data\n",
    "\n",
    "A two-dimensional matrix with rows indicating records (cases) and columns indicating features (variables).\n",
    "Unstructured data must be processed and manipulated so that it can be represented as a set of features in a rectangular data. \n",
    "\n",
    "- **Data Frame**: rectangular data (like a spreadsheet)\n",
    "- **Feature**: A column within a table (attribute, input, predictor, variable)\n",
    "- **Outcome**: (dependent variable, response, target, output). \n",
    "- **Records**: A row  within a table (case, example, instance, observation, pattern, sample). "
   ]
  },
  {
   "cell_type": "markdown",
   "id": "a99b268c",
   "metadata": {},
   "source": [
    "## Nonrectangular Data Structures\n",
    "\n",
    "Graph data structures are used to represent physical, social and abstract relationships. They are useful to for certain types of problems such as network optimization. \n"
   ]
  },
  {
   "cell_type": "markdown",
   "id": "51f6e2ad",
   "metadata": {},
   "source": [
    "## Estimates of Location\n",
    "\n",
    "- **Mean**\n",
    "- **Weighted mean**\n",
    "- **Median**\n",
    "- **Percentile**\n",
    "- **Weighted median**\n",
    "- **Trimmed mean**\n",
    "- **Robust** \n",
    "- **Outlier** "
   ]
  },
  {
   "cell_type": "markdown",
   "id": "785986e4",
   "metadata": {},
   "source": [
    "### Mean or Average value: \n",
    "\n",
    "Is the sum of all values divided by the number of values.\n",
    "\n",
    "$$\\bar x =  \\frac{\\sum _{i=1}^{n} x_i}{n} $$\n"
   ]
  },
  {
   "cell_type": "markdown",
   "id": "40d30269",
   "metadata": {},
   "source": [
    "### Trimmed mean: \n",
    "\n",
    "Drop a fixed number of sorted values at each end and taking an average of the remaining values. It eliminates the influence of extreme values.\n",
    "\n",
    "$$ \\bar x =  \\frac{\\sum _{i=p+1}^{n-p} x_{(i)}}{n-2p} $$"
   ]
  },
  {
   "cell_type": "markdown",
   "id": "f76c306c",
   "metadata": {},
   "source": [
    "### Weighted mean\n",
    "\n",
    "Multiply each data value $x_i$ by a user-specified weight $w_i$ and divide their sum by the sum of the weights. \n",
    "\n",
    "It can be used when a value is more variable than other. A highly variable (therefore less accurate) observation are given a lower weight. \n",
    "It can also be used when the collected data does not equally represent the different groups that we are interested in measuring. Values from the groups that were underrepresented can get a higher weight. \n",
    "\n",
    "$$\\bar x_{w} =  \\frac{\\sum _{i=1}^{n} w_{i}x_{i}}{\\sum _{i=1}^{n} w_{i}} $$"
   ]
  },
  {
   "cell_type": "markdown",
   "id": "97722b6f",
   "metadata": {},
   "source": [
    "### Median\n",
    "\n",
    "The middle number on a sorted list, or the average of the two values in the middle in case of an even data list. \n",
    "\n",
    "It's referred to as a robust estimate since it is not influenced by outliers (extreme cases) "
   ]
  },
  {
   "cell_type": "code",
   "execution_count": 44,
   "id": "cec0c843",
   "metadata": {
    "tags": [
     "hide-input",
     "hide-output"
    ]
   },
   "outputs": [
    {
     "name": "stdout",
     "output_type": "stream",
     "text": [
      "Defaulting to user installation because normal site-packages is not writeable\n",
      "Requirement already satisfied: wquantiles in /home/lordaris/.local/lib/python3.10/site-packages (0.6)\n",
      "Requirement already satisfied: numpy>=1.18 in /usr/lib/python3.10/site-packages (from wquantiles) (1.23.3)\n",
      "Defaulting to user installation because normal site-packages is not writeable\n",
      "Collecting statsmodels\n",
      "  Downloading statsmodels-0.13.2-cp310-cp310-manylinux_2_17_x86_64.manylinux2014_x86_64.whl (10.0 MB)\n",
      "\u001b[2K     \u001b[90m━━━━━━━━━━━━━━━━━━━━━━━━━━━━━━━━━━━━━━━━\u001b[0m \u001b[32m10.0/10.0 MB\u001b[0m \u001b[31m4.8 MB/s\u001b[0m eta \u001b[36m0:00:00\u001b[0m00:01\u001b[0m0:01\u001b[0m\n",
      "\u001b[?25hRequirement already satisfied: pandas>=0.25 in /home/lordaris/.local/lib/python3.10/site-packages (from statsmodels) (1.4.2)\n",
      "Requirement already satisfied: numpy>=1.17 in /usr/lib/python3.10/site-packages (from statsmodels) (1.23.3)\n",
      "Collecting patsy>=0.5.2\n",
      "  Downloading patsy-0.5.2-py2.py3-none-any.whl (233 kB)\n",
      "\u001b[2K     \u001b[90m━━━━━━━━━━━━━━━━━━━━━━━━━━━━━━━━━━━━━━━\u001b[0m \u001b[32m233.7/233.7 kB\u001b[0m \u001b[31m5.2 MB/s\u001b[0m eta \u001b[36m0:00:00\u001b[0ma \u001b[36m0:00:01\u001b[0m\n",
      "\u001b[?25hRequirement already satisfied: packaging>=21.3 in /usr/lib/python3.10/site-packages (from statsmodels) (21.3)\n",
      "Requirement already satisfied: scipy>=1.3 in /usr/lib/python3.10/site-packages (from statsmodels) (1.9.1)\n",
      "Requirement already satisfied: pyparsing!=3.0.5,>=2.0.2 in /usr/lib/python3.10/site-packages (from packaging>=21.3->statsmodels) (3.0.9)\n",
      "Requirement already satisfied: pytz>=2020.1 in /usr/lib/python3.10/site-packages (from pandas>=0.25->statsmodels) (2022.1)\n",
      "Requirement already satisfied: python-dateutil>=2.8.1 in /usr/lib/python3.10/site-packages (from pandas>=0.25->statsmodels) (2.8.2)\n",
      "Requirement already satisfied: six in /usr/lib/python3.10/site-packages (from patsy>=0.5.2->statsmodels) (1.16.0)\n",
      "Installing collected packages: patsy, statsmodels\n",
      "Successfully installed patsy-0.5.2 statsmodels-0.13.2\n"
     ]
    }
   ],
   "source": [
    "import pandas as pd \n",
    "from scipy import stats\n",
    "import numpy as np\n",
    "!pip install wquantiles\n",
    "!pip install statsmodels\n",
    "import wquantiles\n",
    "from statsmodels import robust"
   ]
  },
  {
   "cell_type": "code",
   "execution_count": 2,
   "id": "b39f5950",
   "metadata": {
    "tags": [
     "hide-input"
    ]
   },
   "outputs": [
    {
     "data": {
      "text/html": [
       "<div>\n",
       "<style scoped>\n",
       "    .dataframe tbody tr th:only-of-type {\n",
       "        vertical-align: middle;\n",
       "    }\n",
       "\n",
       "    .dataframe tbody tr th {\n",
       "        vertical-align: top;\n",
       "    }\n",
       "\n",
       "    .dataframe thead th {\n",
       "        text-align: right;\n",
       "    }\n",
       "</style>\n",
       "<table border=\"1\" class=\"dataframe\">\n",
       "  <thead>\n",
       "    <tr style=\"text-align: right;\">\n",
       "      <th></th>\n",
       "      <th>points</th>\n",
       "      <th>assists</th>\n",
       "      <th>rebounds</th>\n",
       "    </tr>\n",
       "  </thead>\n",
       "  <tbody>\n",
       "    <tr>\n",
       "      <th>0</th>\n",
       "      <td>25</td>\n",
       "      <td>5</td>\n",
       "      <td>11</td>\n",
       "    </tr>\n",
       "    <tr>\n",
       "      <th>1</th>\n",
       "      <td>12</td>\n",
       "      <td>7</td>\n",
       "      <td>8</td>\n",
       "    </tr>\n",
       "    <tr>\n",
       "      <th>2</th>\n",
       "      <td>15</td>\n",
       "      <td>7</td>\n",
       "      <td>10</td>\n",
       "    </tr>\n",
       "    <tr>\n",
       "      <th>3</th>\n",
       "      <td>14</td>\n",
       "      <td>9</td>\n",
       "      <td>6</td>\n",
       "    </tr>\n",
       "    <tr>\n",
       "      <th>4</th>\n",
       "      <td>19</td>\n",
       "      <td>12</td>\n",
       "      <td>6</td>\n",
       "    </tr>\n",
       "    <tr>\n",
       "      <th>5</th>\n",
       "      <td>23</td>\n",
       "      <td>9</td>\n",
       "      <td>5</td>\n",
       "    </tr>\n",
       "    <tr>\n",
       "      <th>6</th>\n",
       "      <td>25</td>\n",
       "      <td>9</td>\n",
       "      <td>9</td>\n",
       "    </tr>\n",
       "    <tr>\n",
       "      <th>7</th>\n",
       "      <td>30</td>\n",
       "      <td>4</td>\n",
       "      <td>12</td>\n",
       "    </tr>\n",
       "    <tr>\n",
       "      <th>8</th>\n",
       "      <td>1</td>\n",
       "      <td>5</td>\n",
       "      <td>7</td>\n",
       "    </tr>\n",
       "    <tr>\n",
       "      <th>9</th>\n",
       "      <td>20</td>\n",
       "      <td>4</td>\n",
       "      <td>10</td>\n",
       "    </tr>\n",
       "  </tbody>\n",
       "</table>\n",
       "</div>"
      ],
      "text/plain": [
       "   points  assists  rebounds\n",
       "0      25        5        11\n",
       "1      12        7         8\n",
       "2      15        7        10\n",
       "3      14        9         6\n",
       "4      19       12         6\n",
       "5      23        9         5\n",
       "6      25        9         9\n",
       "7      30        4        12\n",
       "8       1        5         7\n",
       "9      20        4        10"
      ]
     },
     "execution_count": 2,
     "metadata": {},
     "output_type": "execute_result"
    }
   ],
   "source": [
    "#define DataFrame\n",
    "df = pd.DataFrame({'points': [25, 12, 15, 14, 19, 23, 25, 30, 1, 20],\n",
    "                   'assists': [5, 7, 7, 9, 12, 9, 9, 4, 5, 4],\n",
    "                   'rebounds': [11, 8, 10, 6, 6, 5, 9, 12, 7, 10]})\n",
    "df\n"
   ]
  },
  {
   "cell_type": "code",
   "execution_count": 3,
   "id": "94ed9e30",
   "metadata": {
    "tags": [
     "hide-input"
    ]
   },
   "outputs": [
    {
     "name": "stdout",
     "output_type": "stream",
     "text": [
      "mean is 18.4,\n",
      "trim_mean is 19.125,      \n",
      "median is 19.5,\n",
      "weighted mean is 18.380281690140844,      \n",
      "weighted median is 19.1875\n"
     ]
    }
   ],
   "source": [
    "mean_ = df[\"points\"].mean()\n",
    "trim = stats.trim_mean(df[\"points\"], 0.1)\n",
    "median_ = df[\"points\"].median()\n",
    "weighted_mean = np.average(df[\"points\"], weights=df[\"assists\"])\n",
    "weighted_median = wquantiles.median(df[\"points\"], weights=df[\"assists\"])\n",
    "print(f\"mean is {mean_},\\ntrim_mean is {trim},\\\n",
    "      \\nmedian is {median_},\\nweighted mean is {weighted_mean},\\\n",
    "      \\nweighted median is {weighted_median}\")"
   ]
  },
  {
   "cell_type": "markdown",
   "id": "bce69556",
   "metadata": {},
   "source": [
    "## Estimates of variability \n",
    "- **Deviations** (errors, residuals)\n",
    "- **Variance** (mean-squared-error)\n",
    "- **Standard Deviation** (square root of the variance)\n",
    "- **Mean absolute deviation** (l1-norm, Manhattan norm)\n",
    "- **Median absolute deviation from the median** \n",
    "- **Range**\n",
    "- **Order statistics** (ranks)\n",
    "- **Percentile** (quantile)\n",
    "- **Interquartile range** (IQR)"
   ]
  },
  {
   "cell_type": "markdown",
   "id": "73a446f9",
   "metadata": {},
   "source": [
    "### Standard deviation. \n",
    "\n",
    "It is based on deviations between the estimate of location and the observed data. They tell us how dispersed is the data around the central value. "
   ]
  },
  {
   "cell_type": "code",
   "execution_count": 55,
   "id": "3c5e0f49",
   "metadata": {
    "tags": [
     "hide-input"
    ]
   },
   "outputs": [
    {
     "name": "stdout",
     "output_type": "stream",
     "text": [
      "The mean is 8.2 and the median is 5.0\n"
     ]
    }
   ],
   "source": [
    "list_ = pd.DataFrame({\"col1\": [1, 25, 3, 5, 7]})\n",
    "mean_ = list_[\"col1\"].mean()\n",
    "median_ = list_[\"col1\"].median()\n",
    "print(f\"The mean is {mean_} and the median is {median_}\")"
   ]
  },
  {
   "cell_type": "markdown",
   "id": "4141213b",
   "metadata": {},
   "source": [
    "The deviations from the mean are the differences:\n"
   ]
  },
  {
   "cell_type": "code",
   "execution_count": 56,
   "id": "53454d57",
   "metadata": {
    "tags": [
     "hide-input"
    ]
   },
   "outputs": [
    {
     "data": {
      "text/html": [
       "<div>\n",
       "<style scoped>\n",
       "    .dataframe tbody tr th:only-of-type {\n",
       "        vertical-align: middle;\n",
       "    }\n",
       "\n",
       "    .dataframe tbody tr th {\n",
       "        vertical-align: top;\n",
       "    }\n",
       "\n",
       "    .dataframe thead th {\n",
       "        text-align: right;\n",
       "    }\n",
       "</style>\n",
       "<table border=\"1\" class=\"dataframe\">\n",
       "  <thead>\n",
       "    <tr style=\"text-align: right;\">\n",
       "      <th></th>\n",
       "      <th>col1</th>\n",
       "      <th>deviations</th>\n",
       "    </tr>\n",
       "  </thead>\n",
       "  <tbody>\n",
       "    <tr>\n",
       "      <th>0</th>\n",
       "      <td>1</td>\n",
       "      <td>-4.0</td>\n",
       "    </tr>\n",
       "    <tr>\n",
       "      <th>1</th>\n",
       "      <td>25</td>\n",
       "      <td>20.0</td>\n",
       "    </tr>\n",
       "    <tr>\n",
       "      <th>2</th>\n",
       "      <td>3</td>\n",
       "      <td>-2.0</td>\n",
       "    </tr>\n",
       "    <tr>\n",
       "      <th>3</th>\n",
       "      <td>5</td>\n",
       "      <td>0.0</td>\n",
       "    </tr>\n",
       "    <tr>\n",
       "      <th>4</th>\n",
       "      <td>7</td>\n",
       "      <td>2.0</td>\n",
       "    </tr>\n",
       "  </tbody>\n",
       "</table>\n",
       "</div>"
      ],
      "text/plain": [
       "   col1  deviations\n",
       "0     1        -4.0\n",
       "1    25        20.0\n",
       "2     3        -2.0\n",
       "3     5         0.0\n",
       "4     7         2.0"
      ]
     },
     "execution_count": 56,
     "metadata": {},
     "output_type": "execute_result"
    }
   ],
   "source": [
    "list_[\"deviations\"] = [x - median_ for x in list_[\"col1\"]]\n",
    "list_"
   ]
  },
  {
   "cell_type": "markdown",
   "id": "37ce5482",
   "metadata": {},
   "source": [
    "The sum of deviations from the mean is zero. "
   ]
  },
  {
   "cell_type": "markdown",
   "id": "e415a585",
   "metadata": {},
   "source": [
    "Mean absolute deviation consists in the sum of the absolute values of the deviations from the mean and their average\n",
    "\n",
    "$${Mean absolute deviation} =  \\frac{\\sum _{i=1}^{n} \\left | x_{i}-\\bar{x} \\right |}{n} $$"
   ]
  },
  {
   "cell_type": "markdown",
   "id": "d5f6b462",
   "metadata": {},
   "source": [
    "### Variance and standard deviation\n",
    "\n",
    "$$ s^{2} =  \\frac{\\sum _{i=1}^{n}  (x_{i}-\\bar{x})^{2} }{n-1}  $$\n",
    "\n",
    "$$s = \\sqrt{variance}$$\n",
    "\n",
    "They are sensitive to outliers since they are based on the squared deviations (both numbers are going to be very high in this example because of the \"25\" in the index 1 of col1)"
   ]
  },
  {
   "cell_type": "markdown",
   "id": "7931d611",
   "metadata": {},
   "source": [
    "### Median absolute deviation \n",
    "\n",
    "Is a robust estimate of variability"
   ]
  },
  {
   "cell_type": "markdown",
   "id": "b943784a",
   "metadata": {},
   "source": [
    "$$MAD = Median(\\left | x_{1} -m \\right |, \\left | x_{2} -m \\right |,...,\\left | x_{N} -m \\right |)$$ \n",
    "where m is the median. "
   ]
  },
  {
   "cell_type": "markdown",
   "id": "6ffb2468",
   "metadata": {},
   "source": [
    "### Percentiles \n",
    "\n",
    "To avoid sensitivity to outliers, we can look at the range of the data after dropping values from each end. The Pth percentile is a value such that at least P percent of the values take on this value or less and at least (100-P) percent of the values take on this value or more. \n",
    "\n",
    "Interquartile range is a measurement of variability, and it's the difference between 25th percentile and the 75th percentile. "
   ]
  },
  {
   "cell_type": "code",
   "execution_count": 59,
   "id": "7c35e8e7",
   "metadata": {
    "tags": [
     "hide-input"
    ]
   },
   "outputs": [
    {
     "name": "stdout",
     "output_type": "stream",
     "text": [
      "Mean absolute deviation 6.719999999999999\n",
      "Standar deviation 9.654014708917737\n",
      "Variance 93.2\n",
      "Median absolute deviation 2.965204437011204\n",
      "the IQR is 4.0\n"
     ]
    }
   ],
   "source": [
    "mean_abs_dev = list_[\"col1\"].mad()\n",
    "sd = list_[\"col1\"].std()\n",
    "var_ = list_[\"col1\"].var()\n",
    "mad = robust.scale.mad(list_[\"col1\"])\n",
    "print(f\"Mean absolute deviation {mean_abs_dev}\\nStandar deviation {sd}\\nVariance {var_}\\nMedian absolute deviation {mad}\")\n",
    "col1 = list_[\"col1\"]\n",
    "iqr = col1.quantile(0.75) - col1.quantile(0.25)\n",
    "print(f\"the IQR is {iqr}\")"
   ]
  },
  {
   "cell_type": "markdown",
   "id": "e6299efc",
   "metadata": {},
   "source": [
    "SD is always greater than mean absolute deviation, which is greater than the MAD"
   ]
  },
  {
   "cell_type": "code",
   "execution_count": null,
   "id": "7123c3e7",
   "metadata": {},
   "outputs": [],
   "source": []
  },
  {
   "cell_type": "code",
   "execution_count": null,
   "id": "59838918",
   "metadata": {},
   "outputs": [],
   "source": []
  }
 ],
 "metadata": {
  "celltoolbar": "Tags",
  "kernelspec": {
   "display_name": "Python 3 (ipykernel)",
   "language": "python",
   "name": "python3"
  },
  "language_info": {
   "codemirror_mode": {
    "name": "ipython",
    "version": 3
   },
   "file_extension": ".py",
   "mimetype": "text/x-python",
   "name": "python",
   "nbconvert_exporter": "python",
   "pygments_lexer": "ipython3",
   "version": "3.10.7"
  }
 },
 "nbformat": 4,
 "nbformat_minor": 5
}
